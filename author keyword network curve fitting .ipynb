{
 "cells": [
  {
   "cell_type": "code",
   "execution_count": 2,
   "metadata": {},
   "outputs": [],
   "source": [
    "%config Completer.use_jedi = False"
   ]
  },
  {
   "cell_type": "code",
   "execution_count": 3,
   "metadata": {},
   "outputs": [
    {
     "name": "stdout",
     "output_type": "stream",
     "text": [
      "/home/sunny\n"
     ]
    }
   ],
   "source": [
    "cd"
   ]
  },
  {
   "cell_type": "code",
   "execution_count": 4,
   "metadata": {},
   "outputs": [
    {
     "name": "stdout",
     "output_type": "stream",
     "text": [
      "/home/sunny/extra_learning/flask/keywords similarity app feb 16\n"
     ]
    }
   ],
   "source": [
    "cd extra_learning/flask/keywords\\ similarity\\ app\\ feb\\ 16"
   ]
  },
  {
   "cell_type": "code",
   "execution_count": 5,
   "metadata": {},
   "outputs": [
    {
     "name": "stdout",
     "output_type": "stream",
     "text": [
      "/home/sunny/extra_learning/flask/keywords similarity app feb 16/env_keyword/keyword_app\n"
     ]
    }
   ],
   "source": [
    "cd env_keyword/keyword_app/"
   ]
  },
  {
   "cell_type": "code",
   "execution_count": 55,
   "metadata": {},
   "outputs": [],
   "source": [
    "import networkx as nx"
   ]
  },
  {
   "cell_type": "code",
   "execution_count": 7,
   "metadata": {},
   "outputs": [],
   "source": [
    "H = nx.read_gml(\"Author_keywords_818.gml\")"
   ]
  },
  {
   "cell_type": "code",
   "execution_count": 8,
   "metadata": {},
   "outputs": [
    {
     "data": {
      "text/plain": [
       "818"
      ]
     },
     "execution_count": 8,
     "metadata": {},
     "output_type": "execute_result"
    }
   ],
   "source": [
    "H.number_of_nodes()"
   ]
  },
  {
   "cell_type": "code",
   "execution_count": 12,
   "metadata": {},
   "outputs": [],
   "source": [
    "import seaborn as sns"
   ]
  },
  {
   "cell_type": "code",
   "execution_count": 14,
   "metadata": {},
   "outputs": [],
   "source": [
    "import numpy as np "
   ]
  },
  {
   "cell_type": "code",
   "execution_count": 16,
   "metadata": {},
   "outputs": [],
   "source": [
    "import collections"
   ]
  },
  {
   "cell_type": "markdown",
   "metadata": {},
   "source": [
    "## Node frequency distribution "
   ]
  },
  {
   "cell_type": "code",
   "execution_count": 15,
   "metadata": {},
   "outputs": [
    {
     "data": {
      "text/plain": [
       "<seaborn.axisgrid.FacetGrid at 0x7f99cb9ba1d0>"
      ]
     },
     "execution_count": 15,
     "metadata": {},
     "output_type": "execute_result"
    },
    {
     "data": {
      "image/png": "[encoded data removed]",
      "text/plain": [
       "<Figure size 360x360 with 1 Axes>"
      ]
     },
     "metadata": {
      "needs_background": "light"
     },
     "output_type": "display_data"
    }
   ],
   "source": [
    "sns.displot([np.log2(i[2]['efreq']) for i in H.edges(data=True)])"
   ]
  },
  {
   "cell_type": "code",
   "execution_count": 18,
   "metadata": {
    "scrolled": true
   },
   "outputs": [],
   "source": [
    "edge_freq=collections.Counter([i[2]['efreq'] for i in H.edges(data=True)])"
   ]
  },
  {
   "cell_type": "code",
   "execution_count": 28,
   "metadata": {},
   "outputs": [],
   "source": [
    "efreq_log=[(i,np.log2(edge_freq[i])) for i in edge_freq]"
   ]
  },
  {
   "cell_type": "code",
   "execution_count": 30,
   "metadata": {
    "scrolled": true
   },
   "outputs": [
    {
     "data": {
      "text/plain": [
       "[3,\n",
       " 2,\n",
       " 6,\n",
       " 4,\n",
       " 7,\n",
       " 5,\n",
       " 9,\n",
       " 12,\n",
       " 8,\n",
       " 10,\n",
       " 14,\n",
       " 11,\n",
       " 21,\n",
       " 29,\n",
       " 50,\n",
       " 16,\n",
       " 17,\n",
       " 18,\n",
       " 23,\n",
       " 24,\n",
       " 13,\n",
       " 15,\n",
       " 20,\n",
       " 28,\n",
       " 41,\n",
       " 36,\n",
       " 25,\n",
       " 27]"
      ]
     },
     "execution_count": 30,
     "metadata": {},
     "output_type": "execute_result"
    }
   ],
   "source": [
    "[i[0] for i in efreq_log]"
   ]
  },
  {
   "cell_type": "code",
   "execution_count": null,
   "metadata": {
    "scrolled": true
   },
   "outputs": [],
   "source": []
  },
  {
   "cell_type": "code",
   "execution_count": 34,
   "metadata": {},
   "outputs": [],
   "source": [
    "efreq_log=sorted(efreq_log)"
   ]
  },
  {
   "cell_type": "code",
   "execution_count": null,
   "metadata": {
    "scrolled": true
   },
   "outputs": [],
   "source": []
  },
  {
   "cell_type": "code",
   "execution_count": 56,
   "metadata": {},
   "outputs": [],
   "source": [
    "import matplotlib.pyplot as plt"
   ]
  },
  {
   "cell_type": "code",
   "execution_count": 39,
   "metadata": {},
   "outputs": [
    {
     "data": {
      "text/plain": [
       "[<matplotlib.lines.Line2D at 0x7f99cb4935d0>]"
      ]
     },
     "execution_count": 39,
     "metadata": {},
     "output_type": "execute_result"
    },
    {
     "data": {
      "image/png": "[encoded data removed]",
      "text/plain": [
       "<Figure size 432x288 with 1 Axes>"
      ]
     },
     "metadata": {
      "needs_background": "light"
     },
     "output_type": "display_data"
    }
   ],
   "source": [
    "fig, ax = plt.subplots()\n",
    "ax.plot([i[0] for i in efreq_log], [i[1] for i in efreq_log])\n"
   ]
  },
  {
   "cell_type": "code",
   "execution_count": 45,
   "metadata": {
    "scrolled": true
   },
   "outputs": [
    {
     "data": {
      "text/plain": [
       "[1448,\n",
       " 401,\n",
       " 155,\n",
       " 81,\n",
       " 48,\n",
       " 30,\n",
       " 15,\n",
       " 16,\n",
       " 11,\n",
       " 7,\n",
       " 4,\n",
       " 3,\n",
       " 7,\n",
       " 4,\n",
       " 4,\n",
       " 6,\n",
       " 4,\n",
       " 4,\n",
       " 2,\n",
       " 2,\n",
       " 2,\n",
       " 1,\n",
       " 1,\n",
       " 2,\n",
       " 1,\n",
       " 2,\n",
       " 1,\n",
       " 1]"
      ]
     },
     "execution_count": 45,
     "metadata": {},
     "output_type": "execute_result"
    }
   ],
   "source": [
    "[edge_freq[i] for i in sorted(edge_freq)]"
   ]
  },
  {
   "cell_type": "code",
   "execution_count": 46,
   "metadata": {},
   "outputs": [
    {
     "data": {
      "text/plain": [
       "[<matplotlib.lines.Line2D at 0x7f99cb415890>]"
      ]
     },
     "execution_count": 46,
     "metadata": {},
     "output_type": "execute_result"
    },
    {
     "data": {
      "image/png": "[encoded data removed]",
      "text/plain": [
       "<Figure size 432x288 with 1 Axes>"
      ]
     },
     "metadata": {
      "needs_background": "light"
     },
     "output_type": "display_data"
    }
   ],
   "source": [
    "fig, ax = plt.subplots()\n",
    "ax.plot([i for i in sorted(edge_freq)], [edge_freq[i] for i in sorted(edge_freq)])"
   ]
  },
  {
   "cell_type": "code",
   "execution_count": 49,
   "metadata": {},
   "outputs": [
    {
     "data": {
      "image/png": "[encoded data removed]",
      "text/plain": [
       "<Figure size 1080x720 with 1 Axes>"
      ]
     },
     "metadata": {
      "needs_background": "light"
     },
     "output_type": "display_data"
    }
   ],
   "source": [
    "fig, ax = plt.subplots(figsize=(15, 10))\n",
    "ax.plot([i for i in sorted(edge_freq)], [edge_freq[i] for i in sorted(edge_freq)])\n",
    "ax.set_title('Distribution of frequencies/occurence of edge between two keywords',fontsize=20)\n",
    "ax.set_ylabel('Count of frequency',fontsize=14)\n",
    "ax.set_xlabel('frequences of an edge',fontsize=18)\n",
    "plt.savefig('edge_freq_distribution_author_keywords.png',dpi=300)"
   ]
  },
  {
   "cell_type": "code",
   "execution_count": 51,
   "metadata": {},
   "outputs": [
    {
     "data": {
      "image/png": "[encoded data removed]",
      "text/plain": [
       "<Figure size 1080x720 with 1 Axes>"
      ]
     },
     "metadata": {
      "needs_background": "light"
     },
     "output_type": "display_data"
    }
   ],
   "source": [
    "fig, ax = plt.subplots(figsize=(15, 10))\n",
    "ax.plot([i[0] for i in efreq_log], [i[1] for i in efreq_log])\n",
    "ax.set_title('Distribution of frequencies/occurence of edge between two keywords',fontsize=20)\n",
    "ax.set_ylabel('log2 count of frequency',fontsize=14)\n",
    "ax.set_xlabel('frequences of an edge',fontsize=18)\n",
    "plt.savefig('edge_freq_distribution_author_keywords_log.png',dpi=300)"
   ]
  },
  {
   "cell_type": "code",
   "execution_count": 53,
   "metadata": {},
   "outputs": [
    {
     "data": {
      "text/plain": [
       "'/home/sunny/extra_learning/flask/keywords similarity app feb 16/env_keyword/keyword_app'"
      ]
     },
     "execution_count": 53,
     "metadata": {},
     "output_type": "execute_result"
    }
   ],
   "source": [
    "pwd"
   ]
  },
  {
   "cell_type": "markdown",
   "metadata": {},
   "source": [
    "## Node frequency distribution "
   ]
  },
  {
   "cell_type": "code",
   "execution_count": 54,
   "metadata": {},
   "outputs": [],
   "source": [
    "node_freq=collections.Counter([i[1]['freq'] for i in H.nodes(data=True)])"
   ]
  },
  {
   "cell_type": "code",
   "execution_count": 55,
   "metadata": {
    "scrolled": true
   },
   "outputs": [
    {
     "data": {
      "text/plain": [
       "Counter({9: 20,\n",
       "         4: 103,\n",
       "         5: 63,\n",
       "         3: 117,\n",
       "         12: 21,\n",
       "         2: 174,\n",
       "         7: 31,\n",
       "         13: 18,\n",
       "         16: 13,\n",
       "         6: 53,\n",
       "         18: 9,\n",
       "         15: 11,\n",
       "         46: 1,\n",
       "         28: 2,\n",
       "         14: 13,\n",
       "         11: 10,\n",
       "         8: 33,\n",
       "         51: 2,\n",
       "         21: 4,\n",
       "         111: 1,\n",
       "         19: 4,\n",
       "         75: 1,\n",
       "         22: 3,\n",
       "         30: 4,\n",
       "         125: 2,\n",
       "         120: 1,\n",
       "         131: 1,\n",
       "         26: 1,\n",
       "         54: 1,\n",
       "         53: 1,\n",
       "         29: 2,\n",
       "         165: 1,\n",
       "         10: 24,\n",
       "         17: 10,\n",
       "         20: 6,\n",
       "         24: 3,\n",
       "         1: 8,\n",
       "         36: 2,\n",
       "         177: 1,\n",
       "         65: 1,\n",
       "         41: 1,\n",
       "         69: 1,\n",
       "         42: 2,\n",
       "         782: 1,\n",
       "         31: 1,\n",
       "         34: 3,\n",
       "         47: 4,\n",
       "         38: 4,\n",
       "         32: 3,\n",
       "         173: 1,\n",
       "         87: 2,\n",
       "         25: 2,\n",
       "         187: 1,\n",
       "         23: 1,\n",
       "         27: 1,\n",
       "         33: 3,\n",
       "         37: 3,\n",
       "         45: 1,\n",
       "         74: 1,\n",
       "         101: 1,\n",
       "         77: 1,\n",
       "         56: 1,\n",
       "         100: 1,\n",
       "         60: 1,\n",
       "         161: 1})"
      ]
     },
     "execution_count": 55,
     "metadata": {},
     "output_type": "execute_result"
    }
   ],
   "source": [
    "node_freq"
   ]
  },
  {
   "cell_type": "code",
   "execution_count": null,
   "metadata": {},
   "outputs": [],
   "source": []
  },
  {
   "cell_type": "markdown",
   "metadata": {},
   "source": [
    "## Full network"
   ]
  },
  {
   "cell_type": "code",
   "execution_count": 7,
   "metadata": {},
   "outputs": [],
   "source": [
    "A = nx.read_gml(\"Author_keywords.gml\")"
   ]
  },
  {
   "cell_type": "code",
   "execution_count": 8,
   "metadata": {},
   "outputs": [
    {
     "data": {
      "text/plain": [
       "7224"
      ]
     },
     "execution_count": 8,
     "metadata": {},
     "output_type": "execute_result"
    }
   ],
   "source": [
    "A.number_of_nodes()"
   ]
  },
  {
   "cell_type": "code",
   "execution_count": 9,
   "metadata": {},
   "outputs": [
    {
     "data": {
      "text/plain": [
       "33263"
      ]
     },
     "execution_count": 9,
     "metadata": {},
     "output_type": "execute_result"
    }
   ],
   "source": [
    "A.number_of_edges()"
   ]
  },
  {
   "cell_type": "code",
   "execution_count": 10,
   "metadata": {},
   "outputs": [
    {
     "data": {
      "text/plain": [
       "79"
      ]
     },
     "execution_count": 10,
     "metadata": {},
     "output_type": "execute_result"
    }
   ],
   "source": [
    "nx.number_connected_components(A)"
   ]
  },
  {
   "cell_type": "code",
   "execution_count": 11,
   "metadata": {},
   "outputs": [
    {
     "data": {
      "text/plain": [
       "79"
      ]
     },
     "execution_count": 11,
     "metadata": {},
     "output_type": "execute_result"
    }
   ],
   "source": [
    "len(list(nx.connected_components(A)))"
   ]
  },
  {
   "cell_type": "code",
   "execution_count": 62,
   "metadata": {
    "scrolled": true
   },
   "outputs": [
    {
     "data": {
      "text/plain": [
       "[6889,\n",
       " 7,\n",
       " 6,\n",
       " 4,\n",
       " 3,\n",
       " 5,\n",
       " 5,\n",
       " 5,\n",
       " 4,\n",
       " 3,\n",
       " 3,\n",
       " 7,\n",
       " 5,\n",
       " 6,\n",
       " 4,\n",
       " 5,\n",
       " 3,\n",
       " 6,\n",
       " 5,\n",
       " 5,\n",
       " 5,\n",
       " 3,\n",
       " 5,\n",
       " 3,\n",
       " 5,\n",
       " 6,\n",
       " 4,\n",
       " 5,\n",
       " 5,\n",
       " 4,\n",
       " 4,\n",
       " 5,\n",
       " 5,\n",
       " 5,\n",
       " 4,\n",
       " 5,\n",
       " 2,\n",
       " 6,\n",
       " 4,\n",
       " 6,\n",
       " 4,\n",
       " 5,\n",
       " 4,\n",
       " 4,\n",
       " 5,\n",
       " 5,\n",
       " 5,\n",
       " 4,\n",
       " 5,\n",
       " 4,\n",
       " 4,\n",
       " 5,\n",
       " 1,\n",
       " 4,\n",
       " 4,\n",
       " 4,\n",
       " 4,\n",
       " 3,\n",
       " 2,\n",
       " 5,\n",
       " 4,\n",
       " 5,\n",
       " 4,\n",
       " 4,\n",
       " 5,\n",
       " 1,\n",
       " 6,\n",
       " 4,\n",
       " 5,\n",
       " 3,\n",
       " 4,\n",
       " 4,\n",
       " 4,\n",
       " 2,\n",
       " 2,\n",
       " 4,\n",
       " 5,\n",
       " 1,\n",
       " 5]"
      ]
     },
     "execution_count": 62,
     "metadata": {},
     "output_type": "execute_result"
    }
   ],
   "source": [
    "[len(i) for i in list(nx.connected_components(A))]"
   ]
  },
  {
   "cell_type": "markdown",
   "metadata": {},
   "source": [
    "### Single biggest component has 6889 nodes and other 78 have less than 10 nodes individually. "
   ]
  },
  {
   "cell_type": "code",
   "execution_count": null,
   "metadata": {},
   "outputs": [],
   "source": []
  },
  {
   "cell_type": "code",
   "execution_count": 12,
   "metadata": {},
   "outputs": [
    {
     "data": {
      "text/plain": [
       "2300"
      ]
     },
     "execution_count": 12,
     "metadata": {},
     "output_type": "execute_result"
    }
   ],
   "source": [
    "len([i for i in A.edges(data=True) if i[2]['efreq'] >1])"
   ]
  },
  {
   "cell_type": "markdown",
   "metadata": {},
   "source": [
    "### Out of 33263 edges only 2300 edges has efreq greater than 1 "
   ]
  },
  {
   "cell_type": "code",
   "execution_count": null,
   "metadata": {},
   "outputs": [],
   "source": []
  },
  {
   "cell_type": "markdown",
   "metadata": {},
   "source": [
    "## Select biggest component "
   ]
  },
  {
   "cell_type": "code",
   "execution_count": 13,
   "metadata": {},
   "outputs": [],
   "source": [
    "largest_cc = max(nx.connected_components(A), key=len)"
   ]
  },
  {
   "cell_type": "code",
   "execution_count": 14,
   "metadata": {},
   "outputs": [
    {
     "data": {
      "text/plain": [
       "6889"
      ]
     },
     "execution_count": 14,
     "metadata": {},
     "output_type": "execute_result"
    }
   ],
   "source": [
    "len(largest_cc)"
   ]
  },
  {
   "cell_type": "code",
   "execution_count": 15,
   "metadata": {},
   "outputs": [],
   "source": [
    "H=A.subgraph(largest_cc)"
   ]
  },
  {
   "cell_type": "code",
   "execution_count": 16,
   "metadata": {},
   "outputs": [
    {
     "data": {
      "text/plain": [
       "6889"
      ]
     },
     "execution_count": 16,
     "metadata": {},
     "output_type": "execute_result"
    }
   ],
   "source": [
    "H.number_of_nodes()"
   ]
  },
  {
   "cell_type": "code",
   "execution_count": 22,
   "metadata": {},
   "outputs": [
    {
     "data": {
      "text/plain": [
       "32653"
      ]
     },
     "execution_count": 22,
     "metadata": {},
     "output_type": "execute_result"
    }
   ],
   "source": [
    "H.number_of_edges()"
   ]
  },
  {
   "cell_type": "code",
   "execution_count": 23,
   "metadata": {},
   "outputs": [
    {
     "data": {
      "text/plain": [
       "2290"
      ]
     },
     "execution_count": 23,
     "metadata": {},
     "output_type": "execute_result"
    }
   ],
   "source": [
    "len([i for i in H.edges(data=True) if i[2]['efreq'] >1])"
   ]
  },
  {
   "cell_type": "markdown",
   "metadata": {},
   "source": [
    "### get edges whose has efreq==1"
   ]
  },
  {
   "cell_type": "code",
   "execution_count": 19,
   "metadata": {},
   "outputs": [],
   "source": [
    "r_edge=[]\n",
    "for i in  H.edges(data=True):\n",
    "    if i[2]['efreq']==1:\n",
    "        r_edge.append(i)"
   ]
  },
  {
   "cell_type": "code",
   "execution_count": 20,
   "metadata": {},
   "outputs": [
    {
     "data": {
      "text/plain": [
       "30363"
      ]
     },
     "execution_count": 20,
     "metadata": {},
     "output_type": "execute_result"
    }
   ],
   "source": [
    "len(r_edge)"
   ]
  },
  {
   "cell_type": "code",
   "execution_count": 24,
   "metadata": {},
   "outputs": [
    {
     "ename": "NetworkXError",
     "evalue": "Frozen graph can't be modified",
     "output_type": "error",
     "traceback": [
      "\u001b[0;31m---------------------------------------------------------------------------\u001b[0m",
      "\u001b[0;31mNetworkXError\u001b[0m                             Traceback (most recent call last)",
      "\u001b[0;32m/tmp/ipykernel_5738/3522470863.py\u001b[0m in \u001b[0;36m<module>\u001b[0;34m\u001b[0m\n\u001b[0;32m----> 1\u001b[0;31m \u001b[0mH\u001b[0m\u001b[0;34m.\u001b[0m\u001b[0mremove_edges_from\u001b[0m\u001b[0;34m(\u001b[0m\u001b[0mr_edge\u001b[0m\u001b[0;34m)\u001b[0m\u001b[0;34m\u001b[0m\u001b[0;34m\u001b[0m\u001b[0m\n\u001b[0m",
      "\u001b[0;32m~/anaconda3/lib/python3.7/site-packages/networkx/classes/function.py\u001b[0m in \u001b[0;36mfrozen\u001b[0;34m(*args, **kwargs)\u001b[0m\n\u001b[1;32m    156\u001b[0m \u001b[0;32mdef\u001b[0m \u001b[0mfrozen\u001b[0m\u001b[0;34m(\u001b[0m\u001b[0;34m*\u001b[0m\u001b[0margs\u001b[0m\u001b[0;34m,\u001b[0m \u001b[0;34m**\u001b[0m\u001b[0mkwargs\u001b[0m\u001b[0;34m)\u001b[0m\u001b[0;34m:\u001b[0m\u001b[0;34m\u001b[0m\u001b[0;34m\u001b[0m\u001b[0m\n\u001b[1;32m    157\u001b[0m     \u001b[0;34m\"\"\"Dummy method for raising errors when trying to modify frozen graphs\"\"\"\u001b[0m\u001b[0;34m\u001b[0m\u001b[0;34m\u001b[0m\u001b[0m\n\u001b[0;32m--> 158\u001b[0;31m     \u001b[0;32mraise\u001b[0m \u001b[0mnx\u001b[0m\u001b[0;34m.\u001b[0m\u001b[0mNetworkXError\u001b[0m\u001b[0;34m(\u001b[0m\u001b[0;34m\"Frozen graph can't be modified\"\u001b[0m\u001b[0;34m)\u001b[0m\u001b[0;34m\u001b[0m\u001b[0;34m\u001b[0m\u001b[0m\n\u001b[0m\u001b[1;32m    159\u001b[0m \u001b[0;34m\u001b[0m\u001b[0m\n\u001b[1;32m    160\u001b[0m \u001b[0;34m\u001b[0m\u001b[0m\n",
      "\u001b[0;31mNetworkXError\u001b[0m: Frozen graph can't be modified"
     ]
    }
   ],
   "source": [
    "H.remove_edges_from(r_edge)"
   ]
  },
  {
   "cell_type": "code",
   "execution_count": 25,
   "metadata": {},
   "outputs": [
    {
     "data": {
      "text/plain": [
       "True"
      ]
     },
     "execution_count": 25,
     "metadata": {},
     "output_type": "execute_result"
    }
   ],
   "source": [
    "nx.is_frozen(H)"
   ]
  },
  {
   "cell_type": "code",
   "execution_count": 26,
   "metadata": {},
   "outputs": [],
   "source": [
    "C = nx.Graph(H)"
   ]
  },
  {
   "cell_type": "code",
   "execution_count": 27,
   "metadata": {},
   "outputs": [
    {
     "data": {
      "text/plain": [
       "False"
      ]
     },
     "execution_count": 27,
     "metadata": {},
     "output_type": "execute_result"
    }
   ],
   "source": [
    "nx.is_frozen(C)"
   ]
  },
  {
   "cell_type": "code",
   "execution_count": 28,
   "metadata": {},
   "outputs": [],
   "source": [
    "C.remove_edges_from(r_edge)"
   ]
  },
  {
   "cell_type": "code",
   "execution_count": 29,
   "metadata": {},
   "outputs": [
    {
     "data": {
      "text/plain": [
       "6889"
      ]
     },
     "execution_count": 29,
     "metadata": {},
     "output_type": "execute_result"
    }
   ],
   "source": [
    "C.number_of_nodes()"
   ]
  },
  {
   "cell_type": "code",
   "execution_count": 30,
   "metadata": {},
   "outputs": [
    {
     "data": {
      "text/plain": [
       "2290"
      ]
     },
     "execution_count": 30,
     "metadata": {},
     "output_type": "execute_result"
    }
   ],
   "source": [
    "C.number_of_edges()"
   ]
  },
  {
   "cell_type": "code",
   "execution_count": 31,
   "metadata": {},
   "outputs": [
    {
     "data": {
      "text/plain": [
       "6047"
      ]
     },
     "execution_count": 31,
     "metadata": {},
     "output_type": "execute_result"
    }
   ],
   "source": [
    "nx.number_connected_components(C)"
   ]
  },
  {
   "cell_type": "code",
   "execution_count": 33,
   "metadata": {},
   "outputs": [
    {
     "data": {
      "text/plain": [
       "[818,\n",
       " 4,\n",
       " 4,\n",
       " 3,\n",
       " 2,\n",
       " 2,\n",
       " 2,\n",
       " 2,\n",
       " 2,\n",
       " 2,\n",
       " 2,\n",
       " 2,\n",
       " 2,\n",
       " 2,\n",
       " 2,\n",
       " 2,\n",
       " 2,\n",
       " 2,\n",
       " 2,\n",
       " 2,\n",
       " 2,\n",
       " 1,\n",
       " 1,\n",
       " 1,\n",
       " 1,\n",
       " 1,\n",
       " 1,\n",
       " 1,\n",
       " 1,\n",
       " 1,\n",
       " 1,\n",
       " 1,\n",
       " 1,\n",
       " 1,\n",
       " 1,\n",
       " 1,\n",
       " 1,\n",
       " 1,\n",
       " 1,\n",
       " 1,\n",
       " 1,\n",
       " 1,\n",
       " 1,\n",
       " 1,\n",
       " 1,\n",
       " 1,\n",
       " 1,\n",
       " 1,\n",
       " 1,\n",
       " 1,\n",
       " 1,\n",
       " 1,\n",
       " 1,\n",
       " 1,\n",
       " 1,\n",
       " 1,\n",
       " 1,\n",
       " 1,\n",
       " 1,\n",
       " 1,\n",
       " 1,\n",
       " 1,\n",
       " 1,\n",
       " 1,\n",
       " 1,\n",
       " 1,\n",
       " 1,\n",
       " 1,\n",
       " 1,\n",
       " 1,\n",
       " 1,\n",
       " 1,\n",
       " 1,\n",
       " 1,\n",
       " 1,\n",
       " 1,\n",
       " 1,\n",
       " 1,\n",
       " 1,\n",
       " 1,\n",
       " 1,\n",
       " 1,\n",
       " 1,\n",
       " 1,\n",
       " 1,\n",
       " 1,\n",
       " 1,\n",
       " 1,\n",
       " 1,\n",
       " 1,\n",
       " 1,\n",
       " 1,\n",
       " 1,\n",
       " 1,\n",
       " 1,\n",
       " 1,\n",
       " 1,\n",
       " 1,\n",
       " 1,\n",
       " 1,\n",
       " 1,\n",
       " 1,\n",
       " 1,\n",
       " 1,\n",
       " 1,\n",
       " 1,\n",
       " 1,\n",
       " 1,\n",
       " 1,\n",
       " 1,\n",
       " 1,\n",
       " 1,\n",
       " 1,\n",
       " 1,\n",
       " 1,\n",
       " 1,\n",
       " 1,\n",
       " 1,\n",
       " 1,\n",
       " 1,\n",
       " 1,\n",
       " 1,\n",
       " 1,\n",
       " 1,\n",
       " 1,\n",
       " 1,\n",
       " 1,\n",
       " 1,\n",
       " 1,\n",
       " 1,\n",
       " 1,\n",
       " 1,\n",
       " 1,\n",
       " 1,\n",
       " 1,\n",
       " 1,\n",
       " 1,\n",
       " 1,\n",
       " 1,\n",
       " 1,\n",
       " 1,\n",
       " 1,\n",
       " 1,\n",
       " 1,\n",
       " 1,\n",
       " 1,\n",
       " 1,\n",
       " 1,\n",
       " 1,\n",
       " 1,\n",
       " 1,\n",
       " 1,\n",
       " 1,\n",
       " 1,\n",
       " 1,\n",
       " 1,\n",
       " 1,\n",
       " 1,\n",
       " 1,\n",
       " 1,\n",
       " 1,\n",
       " 1,\n",
       " 1,\n",
       " 1,\n",
       " 1,\n",
       " 1,\n",
       " 1,\n",
       " 1,\n",
       " 1,\n",
       " 1,\n",
       " 1,\n",
       " 1,\n",
       " 1,\n",
       " 1,\n",
       " 1,\n",
       " 1,\n",
       " 1,\n",
       " 1,\n",
       " 1,\n",
       " 1,\n",
       " 1,\n",
       " 1,\n",
       " 1,\n",
       " 1,\n",
       " 1,\n",
       " 1,\n",
       " 1,\n",
       " 1,\n",
       " 1,\n",
       " 1,\n",
       " 1,\n",
       " 1,\n",
       " 1,\n",
       " 1,\n",
       " 1,\n",
       " 1,\n",
       " 1,\n",
       " 1,\n",
       " 1,\n",
       " 1,\n",
       " 1,\n",
       " 1,\n",
       " 1,\n",
       " 1,\n",
       " 1,\n",
       " 1,\n",
       " 1,\n",
       " 1,\n",
       " 1,\n",
       " 1,\n",
       " 1,\n",
       " 1,\n",
       " 1,\n",
       " 1,\n",
       " 1,\n",
       " 1,\n",
       " 1,\n",
       " 1,\n",
       " 1,\n",
       " 1,\n",
       " 1,\n",
       " 1,\n",
       " 1,\n",
       " 1,\n",
       " 1,\n",
       " 1,\n",
       " 1,\n",
       " 1,\n",
       " 1,\n",
       " 1,\n",
       " 1,\n",
       " 1,\n",
       " 1,\n",
       " 1,\n",
       " 1,\n",
       " 1,\n",
       " 1,\n",
       " 1,\n",
       " 1,\n",
       " 1,\n",
       " 1,\n",
       " 1,\n",
       " 1,\n",
       " 1,\n",
       " 1,\n",
       " 1,\n",
       " 1,\n",
       " 1,\n",
       " 1,\n",
       " 1,\n",
       " 1,\n",
       " 1,\n",
       " 1,\n",
       " 1,\n",
       " 1,\n",
       " 1,\n",
       " 1,\n",
       " 1,\n",
       " 1,\n",
       " 1,\n",
       " 1,\n",
       " 1,\n",
       " 1,\n",
       " 1,\n",
       " 1,\n",
       " 1,\n",
       " 1,\n",
       " 1,\n",
       " 1,\n",
       " 1,\n",
       " 1,\n",
       " 1,\n",
       " 1,\n",
       " 1,\n",
       " 1,\n",
       " 1,\n",
       " 1,\n",
       " 1,\n",
       " 1,\n",
       " 1,\n",
       " 1,\n",
       " 1,\n",
       " 1,\n",
       " 1,\n",
       " 1,\n",
       " 1,\n",
       " 1,\n",
       " 1,\n",
       " 1,\n",
       " 1,\n",
       " 1,\n",
       " 1,\n",
       " 1,\n",
       " 1,\n",
       " 1,\n",
       " 1,\n",
       " 1,\n",
       " 1,\n",
       " 1,\n",
       " 1,\n",
       " 1,\n",
       " 1,\n",
       " 1,\n",
       " 1,\n",
       " 1,\n",
       " 1,\n",
       " 1,\n",
       " 1,\n",
       " 1,\n",
       " 1,\n",
       " 1,\n",
       " 1,\n",
       " 1,\n",
       " 1,\n",
       " 1,\n",
       " 1,\n",
       " 1,\n",
       " 1,\n",
       " 1,\n",
       " 1,\n",
       " 1,\n",
       " 1,\n",
       " 1,\n",
       " 1,\n",
       " 1,\n",
       " 1,\n",
       " 1,\n",
       " 1,\n",
       " 1,\n",
       " 1,\n",
       " 1,\n",
       " 1,\n",
       " 1,\n",
       " 1,\n",
       " 1,\n",
       " 1,\n",
       " 1,\n",
       " 1,\n",
       " 1,\n",
       " 1,\n",
       " 1,\n",
       " 1,\n",
       " 1,\n",
       " 1,\n",
       " 1,\n",
       " 1,\n",
       " 1,\n",
       " 1,\n",
       " 1,\n",
       " 1,\n",
       " 1,\n",
       " 1,\n",
       " 1,\n",
       " 1,\n",
       " 1,\n",
       " 1,\n",
       " 1,\n",
       " 1,\n",
       " 1,\n",
       " 1,\n",
       " 1,\n",
       " 1,\n",
       " 1,\n",
       " 1,\n",
       " 1,\n",
       " 1,\n",
       " 1,\n",
       " 1,\n",
       " 1,\n",
       " 1,\n",
       " 1,\n",
       " 1,\n",
       " 1,\n",
       " 1,\n",
       " 1,\n",
       " 1,\n",
       " 1,\n",
       " 1,\n",
       " 1,\n",
       " 1,\n",
       " 1,\n",
       " 1,\n",
       " 1,\n",
       " 1,\n",
       " 1,\n",
       " 1,\n",
       " 1,\n",
       " 1,\n",
       " 1,\n",
       " 1,\n",
       " 1,\n",
       " 1,\n",
       " 1,\n",
       " 1,\n",
       " 1,\n",
       " 1,\n",
       " 1,\n",
       " 1,\n",
       " 1,\n",
       " 1,\n",
       " 1,\n",
       " 1,\n",
       " 1,\n",
       " 1,\n",
       " 1,\n",
       " 1,\n",
       " 1,\n",
       " 1,\n",
       " 1,\n",
       " 1,\n",
       " 1,\n",
       " 1,\n",
       " 1,\n",
       " 1,\n",
       " 1,\n",
       " 1,\n",
       " 1,\n",
       " 1,\n",
       " 1,\n",
       " 1,\n",
       " 1,\n",
       " 1,\n",
       " 1,\n",
       " 1,\n",
       " 1,\n",
       " 1,\n",
       " 1,\n",
       " 1,\n",
       " 1,\n",
       " 1,\n",
       " 1,\n",
       " 1,\n",
       " 1,\n",
       " 1,\n",
       " 1,\n",
       " 1,\n",
       " 1,\n",
       " 1,\n",
       " 1,\n",
       " 1,\n",
       " 1,\n",
       " 1,\n",
       " 1,\n",
       " 1,\n",
       " 1,\n",
       " 1,\n",
       " 1,\n",
       " 1,\n",
       " 1,\n",
       " 1,\n",
       " 1,\n",
       " 1,\n",
       " 1,\n",
       " 1,\n",
       " 1,\n",
       " 1,\n",
       " 1,\n",
       " 1,\n",
       " 1,\n",
       " 1,\n",
       " 1,\n",
       " 1,\n",
       " 1,\n",
       " 1,\n",
       " 1,\n",
       " 1,\n",
       " 1,\n",
       " 1,\n",
       " 1,\n",
       " 1,\n",
       " 1,\n",
       " 1,\n",
       " 1,\n",
       " 1,\n",
       " 1,\n",
       " 1,\n",
       " 1,\n",
       " 1,\n",
       " 1,\n",
       " 1,\n",
       " 1,\n",
       " 1,\n",
       " 1,\n",
       " 1,\n",
       " 1,\n",
       " 1,\n",
       " 1,\n",
       " 1,\n",
       " 1,\n",
       " 1,\n",
       " 1,\n",
       " 1,\n",
       " 1,\n",
       " 1,\n",
       " 1,\n",
       " 1,\n",
       " 1,\n",
       " 1,\n",
       " 1,\n",
       " 1,\n",
       " 1,\n",
       " 1,\n",
       " 1,\n",
       " 1,\n",
       " 1,\n",
       " 1,\n",
       " 1,\n",
       " 1,\n",
       " 1,\n",
       " 1,\n",
       " 1,\n",
       " 1,\n",
       " 1,\n",
       " 1,\n",
       " 1,\n",
       " 1,\n",
       " 1,\n",
       " 1,\n",
       " 1,\n",
       " 1,\n",
       " 1,\n",
       " 1,\n",
       " 1,\n",
       " 1,\n",
       " 1,\n",
       " 1,\n",
       " 1,\n",
       " 1,\n",
       " 1,\n",
       " 1,\n",
       " 1,\n",
       " 1,\n",
       " 1,\n",
       " 1,\n",
       " 1,\n",
       " 1,\n",
       " 1,\n",
       " 1,\n",
       " 1,\n",
       " 1,\n",
       " 1,\n",
       " 1,\n",
       " 1,\n",
       " 1,\n",
       " 1,\n",
       " 1,\n",
       " 1,\n",
       " 1,\n",
       " 1,\n",
       " 1,\n",
       " 1,\n",
       " 1,\n",
       " 1,\n",
       " 1,\n",
       " 1,\n",
       " 1,\n",
       " 1,\n",
       " 1,\n",
       " 1,\n",
       " 1,\n",
       " 1,\n",
       " 1,\n",
       " 1,\n",
       " 1,\n",
       " 1,\n",
       " 1,\n",
       " 1,\n",
       " 1,\n",
       " 1,\n",
       " 1,\n",
       " 1,\n",
       " 1,\n",
       " 1,\n",
       " 1,\n",
       " 1,\n",
       " 1,\n",
       " 1,\n",
       " 1,\n",
       " 1,\n",
       " 1,\n",
       " 1,\n",
       " 1,\n",
       " 1,\n",
       " 1,\n",
       " 1,\n",
       " 1,\n",
       " 1,\n",
       " 1,\n",
       " 1,\n",
       " 1,\n",
       " 1,\n",
       " 1,\n",
       " 1,\n",
       " 1,\n",
       " 1,\n",
       " 1,\n",
       " 1,\n",
       " 1,\n",
       " 1,\n",
       " 1,\n",
       " 1,\n",
       " 1,\n",
       " 1,\n",
       " 1,\n",
       " 1,\n",
       " 1,\n",
       " 1,\n",
       " 1,\n",
       " 1,\n",
       " 1,\n",
       " 1,\n",
       " 1,\n",
       " 1,\n",
       " 1,\n",
       " 1,\n",
       " 1,\n",
       " 1,\n",
       " 1,\n",
       " 1,\n",
       " 1,\n",
       " 1,\n",
       " 1,\n",
       " 1,\n",
       " 1,\n",
       " 1,\n",
       " 1,\n",
       " 1,\n",
       " 1,\n",
       " 1,\n",
       " 1,\n",
       " 1,\n",
       " 1,\n",
       " 1,\n",
       " 1,\n",
       " 1,\n",
       " 1,\n",
       " 1,\n",
       " 1,\n",
       " 1,\n",
       " 1,\n",
       " 1,\n",
       " 1,\n",
       " 1,\n",
       " 1,\n",
       " 1,\n",
       " 1,\n",
       " 1,\n",
       " 1,\n",
       " 1,\n",
       " 1,\n",
       " 1,\n",
       " 1,\n",
       " 1,\n",
       " 1,\n",
       " 1,\n",
       " 1,\n",
       " 1,\n",
       " 1,\n",
       " 1,\n",
       " 1,\n",
       " 1,\n",
       " 1,\n",
       " 1,\n",
       " 1,\n",
       " 1,\n",
       " 1,\n",
       " 1,\n",
       " 1,\n",
       " 1,\n",
       " 1,\n",
       " 1,\n",
       " 1,\n",
       " 1,\n",
       " 1,\n",
       " 1,\n",
       " 1,\n",
       " 1,\n",
       " 1,\n",
       " 1,\n",
       " 1,\n",
       " 1,\n",
       " 1,\n",
       " 1,\n",
       " 1,\n",
       " 1,\n",
       " 1,\n",
       " 1,\n",
       " 1,\n",
       " 1,\n",
       " 1,\n",
       " 1,\n",
       " 1,\n",
       " 1,\n",
       " 1,\n",
       " 1,\n",
       " 1,\n",
       " 1,\n",
       " 1,\n",
       " 1,\n",
       " 1,\n",
       " 1,\n",
       " 1,\n",
       " 1,\n",
       " 1,\n",
       " 1,\n",
       " 1,\n",
       " 1,\n",
       " 1,\n",
       " 1,\n",
       " 1,\n",
       " 1,\n",
       " 1,\n",
       " 1,\n",
       " 1,\n",
       " 1,\n",
       " 1,\n",
       " 1,\n",
       " 1,\n",
       " 1,\n",
       " 1,\n",
       " 1,\n",
       " 1,\n",
       " 1,\n",
       " 1,\n",
       " 1,\n",
       " 1,\n",
       " 1,\n",
       " 1,\n",
       " 1,\n",
       " 1,\n",
       " 1,\n",
       " 1,\n",
       " 1,\n",
       " 1,\n",
       " 1,\n",
       " 1,\n",
       " 1,\n",
       " 1,\n",
       " 1,\n",
       " 1,\n",
       " 1,\n",
       " 1,\n",
       " 1,\n",
       " 1,\n",
       " 1,\n",
       " 1,\n",
       " 1,\n",
       " 1,\n",
       " 1,\n",
       " 1,\n",
       " 1,\n",
       " 1,\n",
       " 1,\n",
       " 1,\n",
       " 1,\n",
       " 1,\n",
       " 1,\n",
       " 1,\n",
       " 1,\n",
       " 1,\n",
       " 1,\n",
       " 1,\n",
       " 1,\n",
       " 1,\n",
       " 1,\n",
       " 1,\n",
       " 1,\n",
       " 1,\n",
       " 1,\n",
       " 1,\n",
       " 1,\n",
       " 1,\n",
       " 1,\n",
       " 1,\n",
       " 1,\n",
       " 1,\n",
       " 1,\n",
       " 1,\n",
       " 1,\n",
       " 1,\n",
       " 1,\n",
       " 1,\n",
       " 1,\n",
       " 1,\n",
       " 1,\n",
       " 1,\n",
       " 1,\n",
       " 1,\n",
       " 1,\n",
       " 1,\n",
       " 1,\n",
       " 1,\n",
       " 1,\n",
       " 1,\n",
       " 1,\n",
       " 1,\n",
       " 1,\n",
       " 1,\n",
       " 1,\n",
       " 1,\n",
       " 1,\n",
       " 1,\n",
       " 1,\n",
       " 1,\n",
       " 1,\n",
       " 1,\n",
       " 1,\n",
       " 1,\n",
       " 1,\n",
       " 1,\n",
       " 1,\n",
       " 1,\n",
       " 1,\n",
       " 1,\n",
       " 1,\n",
       " 1,\n",
       " 1,\n",
       " 1,\n",
       " 1,\n",
       " 1,\n",
       " 1,\n",
       " 1,\n",
       " 1,\n",
       " 1,\n",
       " 1,\n",
       " 1,\n",
       " 1,\n",
       " 1,\n",
       " 1,\n",
       " 1,\n",
       " 1,\n",
       " 1,\n",
       " 1,\n",
       " 1,\n",
       " 1,\n",
       " 1,\n",
       " 1,\n",
       " 1,\n",
       " 1,\n",
       " 1,\n",
       " 1,\n",
       " 1,\n",
       " 1,\n",
       " 1,\n",
       " 1,\n",
       " 1,\n",
       " 1,\n",
       " 1,\n",
       " 1,\n",
       " 1,\n",
       " 1,\n",
       " 1,\n",
       " 1,\n",
       " 1,\n",
       " 1,\n",
       " 1,\n",
       " 1,\n",
       " 1,\n",
       " 1,\n",
       " 1,\n",
       " 1,\n",
       " 1,\n",
       " 1,\n",
       " 1,\n",
       " 1,\n",
       " 1,\n",
       " 1,\n",
       " 1,\n",
       " 1,\n",
       " 1,\n",
       " 1,\n",
       " 1,\n",
       " 1,\n",
       " 1,\n",
       " 1,\n",
       " 1,\n",
       " 1,\n",
       " 1,\n",
       " 1,\n",
       " 1,\n",
       " 1,\n",
       " 1,\n",
       " 1,\n",
       " 1,\n",
       " 1,\n",
       " 1,\n",
       " 1,\n",
       " 1,\n",
       " 1,\n",
       " 1,\n",
       " 1,\n",
       " 1,\n",
       " 1,\n",
       " 1,\n",
       " 1,\n",
       " 1,\n",
       " 1,\n",
       " 1,\n",
       " 1,\n",
       " 1,\n",
       " 1,\n",
       " 1,\n",
       " 1,\n",
       " 1,\n",
       " 1,\n",
       " 1,\n",
       " 1,\n",
       " 1,\n",
       " 1,\n",
       " 1,\n",
       " 1,\n",
       " 1,\n",
       " 1,\n",
       " 1,\n",
       " 1,\n",
       " 1,\n",
       " 1,\n",
       " 1,\n",
       " 1,\n",
       " 1,\n",
       " 1,\n",
       " 1,\n",
       " 1,\n",
       " 1,\n",
       " 1,\n",
       " 1,\n",
       " 1,\n",
       " 1,\n",
       " 1,\n",
       " 1,\n",
       " 1,\n",
       " 1,\n",
       " 1,\n",
       " 1,\n",
       " 1,\n",
       " 1,\n",
       " 1,\n",
       " 1,\n",
       " 1,\n",
       " 1,\n",
       " 1,\n",
       " 1,\n",
       " 1,\n",
       " 1,\n",
       " 1,\n",
       " 1,\n",
       " 1,\n",
       " 1,\n",
       " 1,\n",
       " 1,\n",
       " 1,\n",
       " 1,\n",
       " 1,\n",
       " 1,\n",
       " 1,\n",
       " 1,\n",
       " 1,\n",
       " 1,\n",
       " 1,\n",
       " 1,\n",
       " 1,\n",
       " 1,\n",
       " 1,\n",
       " 1,\n",
       " 1,\n",
       " 1,\n",
       " 1,\n",
       " 1,\n",
       " 1,\n",
       " 1,\n",
       " 1,\n",
       " 1,\n",
       " 1,\n",
       " 1,\n",
       " 1,\n",
       " 1,\n",
       " 1,\n",
       " 1,\n",
       " 1,\n",
       " 1,\n",
       " 1,\n",
       " 1,\n",
       " 1,\n",
       " 1,\n",
       " 1,\n",
       " 1,\n",
       " 1,\n",
       " 1,\n",
       " 1,\n",
       " 1,\n",
       " 1,\n",
       " 1,\n",
       " 1,\n",
       " 1,\n",
       " 1,\n",
       " 1,\n",
       " 1,\n",
       " 1,\n",
       " 1,\n",
       " 1,\n",
       " ...]"
      ]
     },
     "execution_count": 33,
     "metadata": {},
     "output_type": "execute_result"
    }
   ],
   "source": [
    "sorted([len(i) for i in list(nx.connected_components(C))],reverse=True)"
   ]
  },
  {
   "cell_type": "markdown",
   "metadata": {},
   "source": [
    "### After removing the edge with efeq equal to 1 , the graph has 6047 components and biggest one with 818 nodes and rest are either singleton or few nodes."
   ]
  },
  {
   "cell_type": "code",
   "execution_count": 35,
   "metadata": {},
   "outputs": [],
   "source": [
    "largest_cc = max(nx.connected_components(C), key=len)"
   ]
  },
  {
   "cell_type": "code",
   "execution_count": 36,
   "metadata": {},
   "outputs": [
    {
     "data": {
      "text/plain": [
       "818"
      ]
     },
     "execution_count": 36,
     "metadata": {},
     "output_type": "execute_result"
    }
   ],
   "source": [
    "len(largest_cc)"
   ]
  },
  {
   "cell_type": "code",
   "execution_count": 37,
   "metadata": {},
   "outputs": [],
   "source": [
    "H=C.subgraph(largest_cc)"
   ]
  },
  {
   "cell_type": "code",
   "execution_count": 38,
   "metadata": {},
   "outputs": [
    {
     "data": {
      "text/plain": [
       "818"
      ]
     },
     "execution_count": 38,
     "metadata": {},
     "output_type": "execute_result"
    }
   ],
   "source": [
    "H.number_of_nodes()"
   ]
  },
  {
   "cell_type": "code",
   "execution_count": 39,
   "metadata": {},
   "outputs": [
    {
     "data": {
      "text/plain": [
       "2263"
      ]
     },
     "execution_count": 39,
     "metadata": {},
     "output_type": "execute_result"
    }
   ],
   "source": [
    "H.number_of_edges()"
   ]
  },
  {
   "cell_type": "markdown",
   "metadata": {},
   "source": [
    "### biggest components has 818 nodes and 2263 edges "
   ]
  },
  {
   "cell_type": "code",
   "execution_count": 46,
   "metadata": {},
   "outputs": [],
   "source": [
    "import seaborn as sns"
   ]
  },
  {
   "cell_type": "markdown",
   "metadata": {},
   "source": [
    "## Degree distribution of this graph"
   ]
  },
  {
   "cell_type": "code",
   "execution_count": 47,
   "metadata": {},
   "outputs": [
    {
     "data": {
      "text/plain": [
       "<seaborn.axisgrid.FacetGrid at 0x7f2b101eae10>"
      ]
     },
     "execution_count": 47,
     "metadata": {},
     "output_type": "execute_result"
    },
    {
     "data": {
      "image/png": "[encoded data removed]",
      "text/plain": [
       "<Figure size 360x360 with 1 Axes>"
      ]
     },
     "metadata": {
      "needs_background": "light"
     },
     "output_type": "display_data"
    }
   ],
   "source": [
    "sns.displot([i[1] for i in H.degree()])"
   ]
  },
  {
   "cell_type": "code",
   "execution_count": 49,
   "metadata": {},
   "outputs": [],
   "source": [
    "import collections"
   ]
  },
  {
   "cell_type": "code",
   "execution_count": 51,
   "metadata": {
    "scrolled": true
   },
   "outputs": [
    {
     "data": {
      "text/plain": [
       "[(1, 300),\n",
       " (2, 154),\n",
       " (3, 89),\n",
       " (4, 80),\n",
       " (5, 36),\n",
       " (7, 31),\n",
       " (6, 27),\n",
       " (8, 11),\n",
       " (9, 10),\n",
       " (13, 7),\n",
       " (10, 7),\n",
       " (11, 6),\n",
       " (14, 5),\n",
       " (21, 4),\n",
       " (17, 4),\n",
       " (18, 4),\n",
       " (12, 4),\n",
       " (15, 3),\n",
       " (19, 2),\n",
       " (27, 2),\n",
       " (28, 2),\n",
       " (16, 2),\n",
       " (70, 2),\n",
       " (92, 2),\n",
       " (26, 2),\n",
       " (87, 1),\n",
       " (20, 1),\n",
       " (38, 1),\n",
       " (76, 1),\n",
       " (51, 1),\n",
       " (23, 1),\n",
       " (44, 1),\n",
       " (39, 1),\n",
       " (84, 1),\n",
       " (32, 1),\n",
       " (67, 1),\n",
       " (34, 1),\n",
       " (403, 1),\n",
       " (54, 1),\n",
       " (50, 1),\n",
       " (35, 1),\n",
       " (46, 1),\n",
       " (22, 1),\n",
       " (30, 1),\n",
       " (59, 1),\n",
       " (99, 1),\n",
       " (31, 1)]"
      ]
     },
     "execution_count": 51,
     "metadata": {},
     "output_type": "execute_result"
    }
   ],
   "source": [
    "collections.Counter([i[1] for i in H.degree()]).most_common()"
   ]
  },
  {
   "cell_type": "code",
   "execution_count": 52,
   "metadata": {},
   "outputs": [],
   "source": [
    "degree_dist=collections.Counter([i[1] for i in H.degree()])"
   ]
  },
  {
   "cell_type": "code",
   "execution_count": 57,
   "metadata": {
    "scrolled": true
   },
   "outputs": [
    {
     "data": {
      "text/plain": [
       "[<matplotlib.lines.Line2D at 0x7f2b101bf550>]"
      ]
     },
     "execution_count": 57,
     "metadata": {},
     "output_type": "execute_result"
    },
    {
     "data": {
      "image/png": "[encoded data removed]",
      "text/plain": [
       "<Figure size 432x288 with 1 Axes>"
      ]
     },
     "metadata": {
      "needs_background": "light"
     },
     "output_type": "display_data"
    }
   ],
   "source": [
    "fig, ax = plt.subplots()\n",
    "ax.plot([i for i in sorted(degree_dist)], [degree_dist[i] for i in sorted(degree_dist)])"
   ]
  },
  {
   "cell_type": "code",
   "execution_count": 60,
   "metadata": {
    "collapsed": true
   },
   "outputs": [
    {
     "data": {
      "image/png": "[encoded data removed]",
      "text/plain": [
       "<Figure size 1080x720 with 1 Axes>"
      ]
     },
     "metadata": {
      "needs_background": "light"
     },
     "output_type": "display_data"
    }
   ],
   "source": [
    "fig, ax = plt.subplots(figsize=(15, 10))\n",
    "ax.plot([i for i in sorted(degree_dist)], [degree_dist[i] for i in sorted(degree_dist)])\n",
    "ax.set_title('Degree distribution of author keyword network',fontsize=20)\n",
    "ax.set_ylabel('frequency of degree',fontsize=14)\n",
    "ax.set_xlabel('Nodes degree',fontsize=18)\n",
    "plt.savefig('edge_freq_distribution_author_keywords.png',dpi=300)"
   ]
  },
  {
   "cell_type": "code",
   "execution_count": 61,
   "metadata": {},
   "outputs": [],
   "source": [
    "import numpy as np"
   ]
  },
  {
   "cell_type": "code",
   "execution_count": 67,
   "metadata": {},
   "outputs": [
    {
     "data": {
      "text/plain": [
       "[<matplotlib.lines.Line2D at 0x7f2b0e5b6350>]"
      ]
     },
     "execution_count": 67,
     "metadata": {},
     "output_type": "execute_result"
    },
    {
     "data": {
      "image/png": "[encoded data removed]",
      "text/plain": [
       "<Figure size 432x288 with 1 Axes>"
      ]
     },
     "metadata": {
      "needs_background": "light"
     },
     "output_type": "display_data"
    }
   ],
   "source": [
    "fig, ax = plt.subplots()\n",
    "ax.plot([np.log10(i) for i in sorted(degree_dist)], [np.log10(degree_dist[i]/818) for i in sorted(degree_dist)])"
   ]
  },
  {
   "cell_type": "code",
   "execution_count": 64,
   "metadata": {},
   "outputs": [
    {
     "data": {
      "text/plain": [
       "818"
      ]
     },
     "execution_count": 64,
     "metadata": {},
     "output_type": "execute_result"
    }
   ],
   "source": [
    "sum([degree_dist[i] for i in sorted(degree_dist)])"
   ]
  },
  {
   "cell_type": "code",
   "execution_count": 68,
   "metadata": {},
   "outputs": [
    {
     "data": {
      "text/plain": [
       "818"
      ]
     },
     "execution_count": 68,
     "metadata": {},
     "output_type": "execute_result"
    }
   ],
   "source": [
    "H.number_of_nodes()"
   ]
  },
  {
   "cell_type": "code",
   "execution_count": 73,
   "metadata": {},
   "outputs": [
    {
     "data": {
      "text/plain": [
       "[782,\n",
       " 187,\n",
       " 177,\n",
       " 173,\n",
       " 165,\n",
       " 161,\n",
       " 131,\n",
       " 125,\n",
       " 125,\n",
       " 120,\n",
       " 111,\n",
       " 101,\n",
       " 100,\n",
       " 87,\n",
       " 87,\n",
       " 77,\n",
       " 75,\n",
       " 74,\n",
       " 69,\n",
       " 65,\n",
       " 60,\n",
       " 56,\n",
       " 54,\n",
       " 53,\n",
       " 51,\n",
       " 51,\n",
       " 47,\n",
       " 47,\n",
       " 47,\n",
       " 47,\n",
       " 46,\n",
       " 45,\n",
       " 42,\n",
       " 42,\n",
       " 41,\n",
       " 38,\n",
       " 38,\n",
       " 38,\n",
       " 38,\n",
       " 37,\n",
       " 37,\n",
       " 37,\n",
       " 36,\n",
       " 36,\n",
       " 34,\n",
       " 34,\n",
       " 34,\n",
       " 33,\n",
       " 33,\n",
       " 33,\n",
       " 32,\n",
       " 32,\n",
       " 32,\n",
       " 31,\n",
       " 30,\n",
       " 30,\n",
       " 30,\n",
       " 30,\n",
       " 29,\n",
       " 29,\n",
       " 28,\n",
       " 28,\n",
       " 27,\n",
       " 26,\n",
       " 25,\n",
       " 25,\n",
       " 24,\n",
       " 24,\n",
       " 24,\n",
       " 23,\n",
       " 22,\n",
       " 22,\n",
       " 22,\n",
       " 21,\n",
       " 21,\n",
       " 21,\n",
       " 21,\n",
       " 20,\n",
       " 20,\n",
       " 20,\n",
       " 20,\n",
       " 20,\n",
       " 20,\n",
       " 19,\n",
       " 19,\n",
       " 19,\n",
       " 19,\n",
       " 18,\n",
       " 18,\n",
       " 18,\n",
       " 18,\n",
       " 18,\n",
       " 18,\n",
       " 18,\n",
       " 18,\n",
       " 18,\n",
       " 17,\n",
       " 17,\n",
       " 17,\n",
       " 17,\n",
       " 17,\n",
       " 17,\n",
       " 17,\n",
       " 17,\n",
       " 17,\n",
       " 17,\n",
       " 16,\n",
       " 16,\n",
       " 16,\n",
       " 16,\n",
       " 16,\n",
       " 16,\n",
       " 16,\n",
       " 16,\n",
       " 16,\n",
       " 16,\n",
       " 16,\n",
       " 16,\n",
       " 16,\n",
       " 15,\n",
       " 15,\n",
       " 15,\n",
       " 15,\n",
       " 15,\n",
       " 15,\n",
       " 15,\n",
       " 15,\n",
       " 15,\n",
       " 15,\n",
       " 15,\n",
       " 14,\n",
       " 14,\n",
       " 14,\n",
       " 14,\n",
       " 14,\n",
       " 14,\n",
       " 14,\n",
       " 14,\n",
       " 14,\n",
       " 14,\n",
       " 14,\n",
       " 14,\n",
       " 14,\n",
       " 13,\n",
       " 13,\n",
       " 13,\n",
       " 13,\n",
       " 13,\n",
       " 13,\n",
       " 13,\n",
       " 13,\n",
       " 13,\n",
       " 13,\n",
       " 13,\n",
       " 13,\n",
       " 13,\n",
       " 13,\n",
       " 13,\n",
       " 13,\n",
       " 13,\n",
       " 13,\n",
       " 12,\n",
       " 12,\n",
       " 12,\n",
       " 12,\n",
       " 12,\n",
       " 12,\n",
       " 12,\n",
       " 12,\n",
       " 12,\n",
       " 12,\n",
       " 12,\n",
       " 12,\n",
       " 12,\n",
       " 12,\n",
       " 12,\n",
       " 12,\n",
       " 12,\n",
       " 12,\n",
       " 12,\n",
       " 12,\n",
       " 12,\n",
       " 11,\n",
       " 11,\n",
       " 11,\n",
       " 11,\n",
       " 11,\n",
       " 11,\n",
       " 11,\n",
       " 11,\n",
       " 11,\n",
       " 11,\n",
       " 10,\n",
       " 10,\n",
       " 10,\n",
       " 10,\n",
       " 10,\n",
       " 10,\n",
       " 10,\n",
       " 10,\n",
       " 10,\n",
       " 10,\n",
       " 10,\n",
       " 10,\n",
       " 10,\n",
       " 10,\n",
       " 10,\n",
       " 10,\n",
       " 10,\n",
       " 10,\n",
       " 10,\n",
       " 10,\n",
       " 10,\n",
       " 10,\n",
       " 10,\n",
       " 10,\n",
       " 9,\n",
       " 9,\n",
       " 9,\n",
       " 9,\n",
       " 9,\n",
       " 9,\n",
       " 9,\n",
       " 9,\n",
       " 9,\n",
       " 9,\n",
       " 9,\n",
       " 9,\n",
       " 9,\n",
       " 9,\n",
       " 9,\n",
       " 9,\n",
       " 9,\n",
       " 9,\n",
       " 9,\n",
       " 9,\n",
       " 8,\n",
       " 8,\n",
       " 8,\n",
       " 8,\n",
       " 8,\n",
       " 8,\n",
       " 8,\n",
       " 8,\n",
       " 8,\n",
       " 8,\n",
       " 8,\n",
       " 8,\n",
       " 8,\n",
       " 8,\n",
       " 8,\n",
       " 8,\n",
       " 8,\n",
       " 8,\n",
       " 8,\n",
       " 8,\n",
       " 8,\n",
       " 8,\n",
       " 8,\n",
       " 8,\n",
       " 8,\n",
       " 8,\n",
       " 8,\n",
       " 8,\n",
       " 8,\n",
       " 8,\n",
       " 8,\n",
       " 8,\n",
       " 8,\n",
       " 7,\n",
       " 7,\n",
       " 7,\n",
       " 7,\n",
       " 7,\n",
       " 7,\n",
       " 7,\n",
       " 7,\n",
       " 7,\n",
       " 7,\n",
       " 7,\n",
       " 7,\n",
       " 7,\n",
       " 7,\n",
       " 7,\n",
       " 7,\n",
       " 7,\n",
       " 7,\n",
       " 7,\n",
       " 7,\n",
       " 7,\n",
       " 7,\n",
       " 7,\n",
       " 7,\n",
       " 7,\n",
       " 7,\n",
       " 7,\n",
       " 7,\n",
       " 7,\n",
       " 7,\n",
       " 7,\n",
       " 6,\n",
       " 6,\n",
       " 6,\n",
       " 6,\n",
       " 6,\n",
       " 6,\n",
       " 6,\n",
       " 6,\n",
       " 6,\n",
       " 6,\n",
       " 6,\n",
       " 6,\n",
       " 6,\n",
       " 6,\n",
       " 6,\n",
       " 6,\n",
       " 6,\n",
       " 6,\n",
       " 6,\n",
       " 6,\n",
       " 6,\n",
       " 6,\n",
       " 6,\n",
       " 6,\n",
       " 6,\n",
       " 6,\n",
       " 6,\n",
       " 6,\n",
       " 6,\n",
       " 6,\n",
       " 6,\n",
       " 6,\n",
       " 6,\n",
       " 6,\n",
       " 6,\n",
       " 6,\n",
       " 6,\n",
       " 6,\n",
       " 6,\n",
       " 6,\n",
       " 6,\n",
       " 6,\n",
       " 6,\n",
       " 6,\n",
       " 6,\n",
       " 6,\n",
       " 6,\n",
       " 6,\n",
       " 6,\n",
       " 6,\n",
       " 6,\n",
       " 6,\n",
       " 6,\n",
       " 5,\n",
       " 5,\n",
       " 5,\n",
       " 5,\n",
       " 5,\n",
       " 5,\n",
       " 5,\n",
       " 5,\n",
       " 5,\n",
       " 5,\n",
       " 5,\n",
       " 5,\n",
       " 5,\n",
       " 5,\n",
       " 5,\n",
       " 5,\n",
       " 5,\n",
       " 5,\n",
       " 5,\n",
       " 5,\n",
       " 5,\n",
       " 5,\n",
       " 5,\n",
       " 5,\n",
       " 5,\n",
       " 5,\n",
       " 5,\n",
       " 5,\n",
       " 5,\n",
       " 5,\n",
       " 5,\n",
       " 5,\n",
       " 5,\n",
       " 5,\n",
       " 5,\n",
       " 5,\n",
       " 5,\n",
       " 5,\n",
       " 5,\n",
       " 5,\n",
       " 5,\n",
       " 5,\n",
       " 5,\n",
       " 5,\n",
       " 5,\n",
       " 5,\n",
       " 5,\n",
       " 5,\n",
       " 5,\n",
       " 5,\n",
       " 5,\n",
       " 5,\n",
       " 5,\n",
       " 5,\n",
       " 5,\n",
       " 5,\n",
       " 5,\n",
       " 5,\n",
       " 5,\n",
       " 5,\n",
       " 5,\n",
       " 5,\n",
       " 5,\n",
       " 4,\n",
       " 4,\n",
       " 4,\n",
       " 4,\n",
       " 4,\n",
       " 4,\n",
       " 4,\n",
       " 4,\n",
       " 4,\n",
       " 4,\n",
       " 4,\n",
       " 4,\n",
       " 4,\n",
       " 4,\n",
       " 4,\n",
       " 4,\n",
       " 4,\n",
       " 4,\n",
       " 4,\n",
       " 4,\n",
       " 4,\n",
       " 4,\n",
       " 4,\n",
       " 4,\n",
       " 4,\n",
       " 4,\n",
       " 4,\n",
       " 4,\n",
       " 4,\n",
       " 4,\n",
       " 4,\n",
       " 4,\n",
       " 4,\n",
       " 4,\n",
       " 4,\n",
       " 4,\n",
       " 4,\n",
       " 4,\n",
       " 4,\n",
       " 4,\n",
       " 4,\n",
       " 4,\n",
       " 4,\n",
       " 4,\n",
       " 4,\n",
       " 4,\n",
       " 4,\n",
       " 4,\n",
       " 4,\n",
       " 4,\n",
       " 4,\n",
       " 4,\n",
       " 4,\n",
       " 4,\n",
       " 4,\n",
       " 4,\n",
       " 4,\n",
       " 4,\n",
       " 4,\n",
       " 4,\n",
       " 4,\n",
       " 4,\n",
       " 4,\n",
       " 4,\n",
       " 4,\n",
       " 4,\n",
       " 4,\n",
       " 4,\n",
       " 4,\n",
       " 4,\n",
       " 4,\n",
       " 4,\n",
       " 4,\n",
       " 4,\n",
       " 4,\n",
       " 4,\n",
       " 4,\n",
       " 4,\n",
       " 4,\n",
       " 4,\n",
       " 4,\n",
       " 4,\n",
       " 4,\n",
       " 4,\n",
       " 4,\n",
       " 4,\n",
       " 4,\n",
       " 4,\n",
       " 4,\n",
       " 4,\n",
       " 4,\n",
       " 4,\n",
       " 4,\n",
       " 4,\n",
       " 4,\n",
       " 4,\n",
       " 4,\n",
       " 4,\n",
       " 4,\n",
       " 4,\n",
       " 4,\n",
       " 4,\n",
       " 4,\n",
       " 3,\n",
       " 3,\n",
       " 3,\n",
       " 3,\n",
       " 3,\n",
       " 3,\n",
       " 3,\n",
       " 3,\n",
       " 3,\n",
       " 3,\n",
       " 3,\n",
       " 3,\n",
       " 3,\n",
       " 3,\n",
       " 3,\n",
       " 3,\n",
       " 3,\n",
       " 3,\n",
       " 3,\n",
       " 3,\n",
       " 3,\n",
       " 3,\n",
       " 3,\n",
       " 3,\n",
       " 3,\n",
       " 3,\n",
       " 3,\n",
       " 3,\n",
       " 3,\n",
       " 3,\n",
       " 3,\n",
       " 3,\n",
       " 3,\n",
       " 3,\n",
       " 3,\n",
       " 3,\n",
       " 3,\n",
       " 3,\n",
       " 3,\n",
       " 3,\n",
       " 3,\n",
       " 3,\n",
       " 3,\n",
       " 3,\n",
       " 3,\n",
       " 3,\n",
       " 3,\n",
       " 3,\n",
       " 3,\n",
       " 3,\n",
       " 3,\n",
       " 3,\n",
       " 3,\n",
       " 3,\n",
       " 3,\n",
       " 3,\n",
       " 3,\n",
       " 3,\n",
       " 3,\n",
       " 3,\n",
       " 3,\n",
       " 3,\n",
       " 3,\n",
       " 3,\n",
       " 3,\n",
       " 3,\n",
       " 3,\n",
       " 3,\n",
       " 3,\n",
       " 3,\n",
       " 3,\n",
       " 3,\n",
       " 3,\n",
       " 3,\n",
       " 3,\n",
       " 3,\n",
       " 3,\n",
       " 3,\n",
       " 3,\n",
       " 3,\n",
       " 3,\n",
       " 3,\n",
       " 3,\n",
       " 3,\n",
       " 3,\n",
       " 3,\n",
       " 3,\n",
       " 3,\n",
       " 3,\n",
       " 3,\n",
       " 3,\n",
       " 3,\n",
       " 3,\n",
       " 3,\n",
       " 3,\n",
       " 3,\n",
       " 3,\n",
       " 3,\n",
       " 3,\n",
       " 3,\n",
       " 3,\n",
       " 3,\n",
       " 3,\n",
       " 3,\n",
       " 3,\n",
       " 3,\n",
       " 3,\n",
       " 3,\n",
       " 3,\n",
       " 3,\n",
       " 3,\n",
       " 3,\n",
       " 3,\n",
       " 3,\n",
       " 3,\n",
       " 3,\n",
       " 3,\n",
       " 2,\n",
       " 2,\n",
       " 2,\n",
       " 2,\n",
       " 2,\n",
       " 2,\n",
       " 2,\n",
       " 2,\n",
       " 2,\n",
       " 2,\n",
       " 2,\n",
       " 2,\n",
       " 2,\n",
       " 2,\n",
       " 2,\n",
       " 2,\n",
       " 2,\n",
       " 2,\n",
       " 2,\n",
       " 2,\n",
       " 2,\n",
       " 2,\n",
       " 2,\n",
       " 2,\n",
       " 2,\n",
       " 2,\n",
       " 2,\n",
       " 2,\n",
       " 2,\n",
       " 2,\n",
       " 2,\n",
       " 2,\n",
       " 2,\n",
       " 2,\n",
       " 2,\n",
       " 2,\n",
       " 2,\n",
       " 2,\n",
       " 2,\n",
       " 2,\n",
       " 2,\n",
       " 2,\n",
       " 2,\n",
       " 2,\n",
       " 2,\n",
       " 2,\n",
       " 2,\n",
       " 2,\n",
       " 2,\n",
       " 2,\n",
       " 2,\n",
       " 2,\n",
       " 2,\n",
       " 2,\n",
       " 2,\n",
       " 2,\n",
       " 2,\n",
       " 2,\n",
       " 2,\n",
       " 2,\n",
       " 2,\n",
       " 2,\n",
       " 2,\n",
       " 2,\n",
       " 2,\n",
       " 2,\n",
       " 2,\n",
       " 2,\n",
       " 2,\n",
       " 2,\n",
       " 2,\n",
       " 2,\n",
       " 2,\n",
       " 2,\n",
       " 2,\n",
       " 2,\n",
       " 2,\n",
       " 2,\n",
       " 2,\n",
       " 2,\n",
       " 2,\n",
       " 2,\n",
       " 2,\n",
       " 2,\n",
       " 2,\n",
       " 2,\n",
       " 2,\n",
       " 2,\n",
       " 2,\n",
       " 2,\n",
       " 2,\n",
       " 2,\n",
       " 2,\n",
       " 2,\n",
       " 2,\n",
       " 2,\n",
       " 2,\n",
       " 2,\n",
       " 2,\n",
       " 2,\n",
       " 2,\n",
       " 2,\n",
       " 2,\n",
       " 2,\n",
       " 2,\n",
       " 2,\n",
       " 2,\n",
       " 2,\n",
       " 2,\n",
       " 2,\n",
       " 2,\n",
       " 2,\n",
       " 2,\n",
       " 2,\n",
       " 2,\n",
       " 2,\n",
       " 2,\n",
       " 2,\n",
       " 2,\n",
       " 2,\n",
       " 2,\n",
       " 2,\n",
       " 2,\n",
       " 2,\n",
       " 2,\n",
       " 2,\n",
       " 2,\n",
       " 2,\n",
       " 2,\n",
       " 2,\n",
       " 2,\n",
       " 2,\n",
       " 2,\n",
       " 2,\n",
       " 2,\n",
       " 2,\n",
       " 2,\n",
       " 2,\n",
       " 2,\n",
       " 2,\n",
       " 2,\n",
       " 2,\n",
       " 2,\n",
       " 2,\n",
       " 2,\n",
       " 2,\n",
       " 2,\n",
       " 2,\n",
       " 2,\n",
       " 2,\n",
       " 2,\n",
       " 2,\n",
       " 2,\n",
       " 2,\n",
       " 2,\n",
       " 2,\n",
       " 2,\n",
       " 2,\n",
       " 2,\n",
       " 2,\n",
       " 2,\n",
       " 2,\n",
       " 2,\n",
       " 2,\n",
       " 2,\n",
       " 2,\n",
       " 2,\n",
       " 2,\n",
       " 2,\n",
       " 2,\n",
       " 2,\n",
       " 2,\n",
       " 2,\n",
       " 2,\n",
       " 1,\n",
       " 1,\n",
       " 1,\n",
       " 1,\n",
       " 1,\n",
       " 1,\n",
       " 1,\n",
       " 1]"
      ]
     },
     "execution_count": 73,
     "metadata": {},
     "output_type": "execute_result"
    }
   ],
   "source": [
    "sorted([i[1]['freq']  for i in H.nodes(data=True)],reverse=True)"
   ]
  },
  {
   "cell_type": "code",
   "execution_count": 82,
   "metadata": {},
   "outputs": [
    {
     "data": {
      "text/plain": [
       "[('biodegradation', {'freq': 782}),\n",
       " ('biodegradable', {'freq': 187}),\n",
       " ('mechanical properties', {'freq': 177}),\n",
       " ('microplastics', {'freq': 173}),\n",
       " ('biodegradable plastic', {'freq': 165}),\n",
       " ('degradation', {'freq': 161}),\n",
       " ('biodegradability', {'freq': 131}),\n",
       " ('bioplastics', {'freq': 125}),\n",
       " ('polylactic acid', {'freq': 125}),\n",
       " ('plastics', {'freq': 120}),\n",
       " ('biodegradable polymers', {'freq': 111}),\n",
       " ('polyhydroxyalkanoates (pha)', {'freq': 101}),\n",
       " ('polyethylene', {'freq': 100}),\n",
       " ('poly(ε-caprolactone)', {'freq': 87}),\n",
       " ('starch', {'freq': 87}),\n",
       " ('biofilm', {'freq': 77}),\n",
       " ('biopolymers', {'freq': 75}),\n",
       " ('composites', {'freq': 74}),\n",
       " ('polyethylene terephthalate (pet)', {'freq': 69}),\n",
       " ('thermoplastic starch', {'freq': 65})]"
      ]
     },
     "execution_count": 82,
     "metadata": {},
     "output_type": "execute_result"
    }
   ],
   "source": [
    "sorted([i for i in H.nodes(data=True)],key=lambda i:i[1]['freq'], reverse=True)[:20]"
   ]
  },
  {
   "cell_type": "code",
   "execution_count": 76,
   "metadata": {},
   "outputs": [
    {
     "data": {
      "text/plain": [
       "[('organoclay', {'freq': 6}),\n",
       " ('quality', {'freq': 4}),\n",
       " ('seed dust-off', {'freq': 2}),\n",
       " ('cellulose and other wood products', {'freq': 3}),\n",
       " ('ocean', {'freq': 4}),\n",
       " ('soil temperature', {'freq': 5}),\n",
       " ('elastomer', {'freq': 25}),\n",
       " ('nanoclay', {'freq': 10}),\n",
       " ('bacterial consortium', {'freq': 6}),\n",
       " ('toxicity', {'freq': 21}),\n",
       " ('gut bacteria', {'freq': 4}),\n",
       " ('vector', {'freq': 3}),\n",
       " ('biodegradable gillnet', {'freq': 2}),\n",
       " ('silk fibroin nanoparticles', {'freq': 2}),\n",
       " ('industrial ecology', {'freq': 3}),\n",
       " ('tissue engineering', {'freq': 33}),\n",
       " ('bacillus licheniformis', {'freq': 4}),\n",
       " ('degradation', {'freq': 161}),\n",
       " ('waste electrical and electronic equipment plastics', {'freq': 2}),\n",
       " ('food packaging', {'freq': 17}),\n",
       " ('flax fibers', {'freq': 6}),\n",
       " ('landfill', {'freq': 32}),\n",
       " ('hydroxyl radicals', {'freq': 3}),\n",
       " ('surface treatment', {'freq': 6}),\n",
       " ('plastic recycling', {'freq': 4}),\n",
       " ('graft copolymerization', {'freq': 3}),\n",
       " ('low-density polyethylene (ldpe)', {'freq': 33}),\n",
       " ('differential scanning calorimetry (dsc)', {'freq': 6}),\n",
       " ('biobased', {'freq': 10}),\n",
       " ('rt-pcr dgge', {'freq': 6}),\n",
       " ('polycyclic aromatic hydrocarbons', {'freq': 4}),\n",
       " ('soil microorganisms', {'freq': 5}),\n",
       " ('in vitro degradation', {'freq': 16}),\n",
       " ('identification', {'freq': 4}),\n",
       " ('drug delivery', {'freq': 12}),\n",
       " ('enrichment culture', {'freq': 5}),\n",
       " ('activated sludge', {'freq': 24}),\n",
       " ('plasticizer', {'freq': 60}),\n",
       " ('fungal decay', {'freq': 4}),\n",
       " ('thermo-oxidative aging', {'freq': 3}),\n",
       " ('bioeconomy', {'freq': 4}),\n",
       " ('plastics', {'freq': 120}),\n",
       " ('retrogradation', {'freq': 3}),\n",
       " ('strum test', {'freq': 2}),\n",
       " ('synthesis', {'freq': 5}),\n",
       " ('biodegradation standard', {'freq': 3}),\n",
       " ('hydrus-2d', {'freq': 2}),\n",
       " ('marine plastic debris', {'freq': 4}),\n",
       " ('aliphatic polyesters', {'freq': 14}),\n",
       " ('ingestion', {'freq': 2}),\n",
       " ('sustainable', {'freq': 3}),\n",
       " ('storage', {'freq': 7}),\n",
       " ('china', {'freq': 2}),\n",
       " ('polymer blends', {'freq': 10}),\n",
       " ('agricultural waste', {'freq': 2}),\n",
       " ('sludge', {'freq': 6}),\n",
       " ('nitrogen source', {'freq': 3}),\n",
       " ('proteobacteria', {'freq': 6}),\n",
       " ('β-tricalcium phosphate', {'freq': 4}),\n",
       " ('lubricants', {'freq': 2}),\n",
       " ('degradation kinetics', {'freq': 3}),\n",
       " ('biodegradation testing', {'freq': 3}),\n",
       " ('phenol', {'freq': 15}),\n",
       " ('mulch', {'freq': 7}),\n",
       " ('debromination', {'freq': 4}),\n",
       " ('biocompatible', {'freq': 5}),\n",
       " ('alkali treatment', {'freq': 4}),\n",
       " ('biosynthesis', {'freq': 4}),\n",
       " ('aspergillus fumigatus', {'freq': 4}),\n",
       " ('optimization', {'freq': 9}),\n",
       " ('polythene', {'freq': 4}),\n",
       " ('hydrolytic degradation', {'freq': 13}),\n",
       " ('tissue response', {'freq': 2}),\n",
       " ('agricultural films', {'freq': 3}),\n",
       " ('aging', {'freq': 12}),\n",
       " ('poly(diol-tricarballylate)', {'freq': 2}),\n",
       " ('mulching', {'freq': 13}),\n",
       " ('poly(ester-ether)', {'freq': 3}),\n",
       " ('kinetic model', {'freq': 6}),\n",
       " ('microbial degradation', {'freq': 17}),\n",
       " ('aspergillus flavus', {'freq': 4}),\n",
       " ('recyclable plastic', {'freq': 2}),\n",
       " ('polyglycolic acid', {'freq': 2}),\n",
       " ('sediment', {'freq': 9}),\n",
       " ('environmental degradation', {'freq': 7}),\n",
       " ('environmental pollution', {'freq': 9}),\n",
       " ('enzymatic hydrolysis', {'freq': 8}),\n",
       " ('laccase', {'freq': 16}),\n",
       " ('nondegradable microplastics', {'freq': 2}),\n",
       " ('supercapacitor', {'freq': 3}),\n",
       " ('lipolytic enzyme', {'freq': 3}),\n",
       " ('spirulina sp.', {'freq': 3}),\n",
       " ('seed coating', {'freq': 2}),\n",
       " ('delftia', {'freq': 2}),\n",
       " ('weathering', {'freq': 12}),\n",
       " ('conventional microplastics', {'freq': 2}),\n",
       " ('microbiome', {'freq': 8}),\n",
       " ('mealworm', {'freq': 15}),\n",
       " ('pcl', {'freq': 12}),\n",
       " ('batch reactor', {'freq': 3}),\n",
       " ('marine litter', {'freq': 8}),\n",
       " ('fusarium culmorum', {'freq': 3}),\n",
       " ('drill-cuttings', {'freq': 2}),\n",
       " ('solid waste', {'freq': 12}),\n",
       " ('microparticles', {'freq': 4}),\n",
       " ('polyethylene mulching film', {'freq': 5}),\n",
       " ('polystyrene', {'freq': 47}),\n",
       " ('composting', {'freq': 51}),\n",
       " ('poly(lactic-co-glycolic acid)', {'freq': 7}),\n",
       " ('biofiltration', {'freq': 8}),\n",
       " ('molecular weight', {'freq': 3}),\n",
       " ('metabolic engineering', {'freq': 7}),\n",
       " ('wastewater treatment', {'freq': 7}),\n",
       " ('microalgae', {'freq': 6}),\n",
       " ('wax worms', {'freq': 4}),\n",
       " ('hydroxyapatite', {'freq': 10}),\n",
       " ('india', {'freq': 2}),\n",
       " ('biofillers', {'freq': 4}),\n",
       " ('compatibility', {'freq': 4}),\n",
       " ('epoxidized natural rubber', {'freq': 4}),\n",
       " ('yield', {'freq': 5}),\n",
       " ('microfibers', {'freq': 2}),\n",
       " ('pet degradation', {'freq': 7}),\n",
       " ('glutaraldehyde', {'freq': 4}),\n",
       " ('sorbitol', {'freq': 8}),\n",
       " ('drip irrigation', {'freq': 5}),\n",
       " ('linear alkyl benzene sulphonate (las)', {'freq': 2}),\n",
       " ('mechanical property', {'freq': 5}),\n",
       " ('water resistance', {'freq': 6}),\n",
       " ('plasticization', {'freq': 6}),\n",
       " ('polyester', {'freq': 45}),\n",
       " ('loose-fill', {'freq': 2}),\n",
       " ('volatile organic compounds', {'freq': 6}),\n",
       " ('biodegradable polymer electrolyte', {'freq': 2}),\n",
       " ('delftia sp.', {'freq': 2}),\n",
       " ('petase from ideonella sakaiensis (ispetase)', {'freq': 2}),\n",
       " ('green plastics', {'freq': 4}),\n",
       " ('methane', {'freq': 7}),\n",
       " ('polyester polyurethane', {'freq': 8}),\n",
       " ('pollution', {'freq': 18}),\n",
       " ('compost degradation', {'freq': 2}),\n",
       " ('biodegradable composites', {'freq': 17}),\n",
       " ('4,4′ diamino diphenyl methane', {'freq': 2}),\n",
       " ('anaerobic digestion', {'freq': 28}),\n",
       " ('polymer waste', {'freq': 5}),\n",
       " ('compost simulation', {'freq': 3}),\n",
       " ('bacterial immobilization', {'freq': 3}),\n",
       " ('fibers', {'freq': 20}),\n",
       " ('phthalate esters', {'freq': 5}),\n",
       " ('adipates', {'freq': 3}),\n",
       " ('municipal solid waste', {'freq': 26}),\n",
       " ('mater-bi', {'freq': 7}),\n",
       " ('southern pine', {'freq': 2}),\n",
       " ('anionic polysaccharides', {'freq': 4}),\n",
       " ('aquatic', {'freq': 2}),\n",
       " ('polysaccharides', {'freq': 5}),\n",
       " ('chitosan', {'freq': 36}),\n",
       " ('seawater', {'freq': 9}),\n",
       " ('polyethylene-octene elastomer', {'freq': 2}),\n",
       " ('physical properties', {'freq': 12}),\n",
       " ('polymer-matrix composites (pmcs)', {'freq': 11}),\n",
       " ('thermal degradation', {'freq': 14}),\n",
       " ('additives', {'freq': 13}),\n",
       " ('polylactic acid (pla)', {'freq': 24}),\n",
       " ('biodegradable polymers', {'freq': 111}),\n",
       " ('weight loss', {'freq': 8}),\n",
       " ('dissolved organic carbon', {'freq': 2}),\n",
       " ('corn starch', {'freq': 15}),\n",
       " ('cyanobacteria', {'freq': 6}),\n",
       " ('bionanocomposites', {'freq': 5}),\n",
       " ('biodiesel', {'freq': 4}),\n",
       " ('succinate', {'freq': 4}),\n",
       " ('grain yield', {'freq': 2}),\n",
       " ('plastic blend', {'freq': 3}),\n",
       " ('green composites', {'freq': 9}),\n",
       " ('phase separation', {'freq': 4}),\n",
       " ('pva', {'freq': 6}),\n",
       " ('biodegradable materials', {'freq': 29}),\n",
       " ('anaerobic microflora', {'freq': 2}),\n",
       " ('preformed plastic mulch film', {'freq': 2}),\n",
       " ('barrier properties', {'freq': 9}),\n",
       " ('agriculture', {'freq': 4}),\n",
       " ('river', {'freq': 4}),\n",
       " ('gelatin', {'freq': 19}),\n",
       " ('pseudozyma', {'freq': 3}),\n",
       " ('thermoset', {'freq': 4}),\n",
       " ('bioconversion', {'freq': 4}),\n",
       " ('mechanical and barrier properties', {'freq': 3}),\n",
       " ('durability', {'freq': 2}),\n",
       " ('marine bacteria', {'freq': 13}),\n",
       " ('xrd', {'freq': 3}),\n",
       " ('pro-oxidant', {'freq': 11}),\n",
       " ('electron microscopy', {'freq': 2}),\n",
       " ('tpa', {'freq': 1}),\n",
       " ('plastic waste', {'freq': 47}),\n",
       " ('single-use plastics', {'freq': 6}),\n",
       " ('pyrolysis', {'freq': 6}),\n",
       " ('surface water', {'freq': 2}),\n",
       " ('accumulation', {'freq': 6}),\n",
       " ('cod', {'freq': 5}),\n",
       " ('dimethyl phthalate', {'freq': 5}),\n",
       " ('packaging film', {'freq': 4}),\n",
       " ('biopolymers', {'freq': 75}),\n",
       " ('pet', {'freq': 23}),\n",
       " ('bio-based polymers', {'freq': 7}),\n",
       " ('preservation', {'freq': 3}),\n",
       " ('fed-batch fermentation', {'freq': 3}),\n",
       " ('metal ion sorption', {'freq': 2}),\n",
       " ('decay fungi', {'freq': 3}),\n",
       " ('bisphenol a', {'freq': 18}),\n",
       " ('fermentation', {'freq': 8}),\n",
       " ('microbiota', {'freq': 4}),\n",
       " ('fungal strain', {'freq': 3}),\n",
       " ('enzymes', {'freq': 22}),\n",
       " ('esterification', {'freq': 3}),\n",
       " ('clay', {'freq': 3}),\n",
       " ('aerobic', {'freq': 3}),\n",
       " ('comamonas', {'freq': 2}),\n",
       " ('degradation pathway', {'freq': 6}),\n",
       " ('persulfate', {'freq': 2}),\n",
       " ('gut microbiome', {'freq': 9}),\n",
       " ('potato starch', {'freq': 6}),\n",
       " ('aliphatic–aromatic co-polyesters', {'freq': 5}),\n",
       " ('pseudomonas syringae', {'freq': 1}),\n",
       " ('agricultural mulches', {'freq': 2}),\n",
       " ('cellulose nanocrystals', {'freq': 7}),\n",
       " ('pet hydrolase', {'freq': 6}),\n",
       " ('environmental impact', {'freq': 5}),\n",
       " ('bacterial adhesion', {'freq': 2}),\n",
       " ('waterborne polyurethane', {'freq': 3}),\n",
       " ('esterase', {'freq': 16}),\n",
       " ('filler', {'freq': 9}),\n",
       " ('sugarcane bagasse', {'freq': 8}),\n",
       " ('dehp', {'freq': 6}),\n",
       " ('white-rot fungi', {'freq': 6}),\n",
       " ('gpc', {'freq': 4}),\n",
       " ('powder metallurgy', {'freq': 3}),\n",
       " ('test methods', {'freq': 4}),\n",
       " ('rheology', {'freq': 14}),\n",
       " ('stearic acid', {'freq': 2}),\n",
       " ('lactic acid bacteria', {'freq': 2}),\n",
       " ('packaging', {'freq': 30}),\n",
       " ('metagenomic screening', {'freq': 1}),\n",
       " ('collagen', {'freq': 5}),\n",
       " ('biowaste', {'freq': 6}),\n",
       " ('rigid polyurethane foam', {'freq': 2}),\n",
       " ('bambusa arundinacea', {'freq': 2}),\n",
       " ('drawing', {'freq': 2}),\n",
       " ('polymer biodegradation', {'freq': 6}),\n",
       " ('carpinus betulus', {'freq': 2}),\n",
       " ('biofilm', {'freq': 77}),\n",
       " ('enhanced biodegradation', {'freq': 3}),\n",
       " ('enzymatic degradation', {'freq': 33}),\n",
       " ('mineralization rate', {'freq': 2}),\n",
       " ('tga', {'freq': 9}),\n",
       " ('stenotrophomonas sp', {'freq': 4}),\n",
       " ('aqueous two-phase extraction', {'freq': 2}),\n",
       " ('biodeterioration', {'freq': 14}),\n",
       " ('soybean', {'freq': 7}),\n",
       " ('controlled environment', {'freq': 2}),\n",
       " ('pet plastic', {'freq': 2}),\n",
       " ('microbes', {'freq': 3}),\n",
       " ('modelling', {'freq': 10}),\n",
       " ('microbeads', {'freq': 2}),\n",
       " ('gypsum board', {'freq': 2}),\n",
       " ('porous foams', {'freq': 2}),\n",
       " ('polymer', {'freq': 42}),\n",
       " ('iso 14855-2', {'freq': 2}),\n",
       " ('foam', {'freq': 12}),\n",
       " ('irradiation', {'freq': 4}),\n",
       " ('hydrophobicity', {'freq': 3}),\n",
       " ('biodegradable polyesters', {'freq': 12}),\n",
       " ('microspheres', {'freq': 10}),\n",
       " ('petase', {'freq': 17}),\n",
       " ('additive manufacturing', {'freq': 6}),\n",
       " ('bioaugmentation', {'freq': 11}),\n",
       " ('environment', {'freq': 14}),\n",
       " ('xinjiang', {'freq': 4}),\n",
       " ('dibenzoates', {'freq': 2}),\n",
       " ('aflatoxins', {'freq': 2}),\n",
       " ('natural rubber', {'freq': 10}),\n",
       " ('polypropylene', {'freq': 56}),\n",
       " ('degradation mechanism', {'freq': 6}),\n",
       " ('di-n-butyl phthalate (dbp)', {'freq': 3}),\n",
       " ('thermal behavior', {'freq': 5}),\n",
       " ('ideonella sakaiensis', {'freq': 4}),\n",
       " ('leptothrix', {'freq': 2}),\n",
       " ('microplastics', {'freq': 173}),\n",
       " ('marine pollution', {'freq': 10}),\n",
       " ('cupriavidus necator', {'freq': 3}),\n",
       " ('disposal biodegradation', {'freq': 1}),\n",
       " ('methylcellulose', {'freq': 2}),\n",
       " ('nitrification', {'freq': 3}),\n",
       " ('gas chromatography-mass spectrometry (gc-ms)', {'freq': 6}),\n",
       " ('anaerobic biodegradation', {'freq': 13}),\n",
       " ('anaerobic', {'freq': 5}),\n",
       " ('radiation grafting', {'freq': 2}),\n",
       " ('enzyme engineering', {'freq': 5}),\n",
       " ('photocatalytic degradation', {'freq': 3}),\n",
       " ('endocrine disruptors', {'freq': 12}),\n",
       " ('amylose', {'freq': 5}),\n",
       " ('marine', {'freq': 8}),\n",
       " ('cellulase', {'freq': 3}),\n",
       " ('gene expression', {'freq': 4}),\n",
       " ('biodegradable film mulching', {'freq': 6}),\n",
       " ('glucose', {'freq': 4}),\n",
       " ('glycerol', {'freq': 21}),\n",
       " ('irrigation thin wall pipes', {'freq': 2}),\n",
       " ('blends', {'freq': 47}),\n",
       " ('pseudomonas putida', {'freq': 8}),\n",
       " ('dibutyl phthalate', {'freq': 5}),\n",
       " ('scale-up', {'freq': 2}),\n",
       " ('metabolomics', {'freq': 7}),\n",
       " ('compostable bags', {'freq': 3}),\n",
       " ('mangrove soil', {'freq': 2}),\n",
       " ('batch culture', {'freq': 2}),\n",
       " ('expanded polystyrene', {'freq': 4}),\n",
       " ('carbon nanotubes', {'freq': 2}),\n",
       " ('protein engineering', {'freq': 3}),\n",
       " ('lignin', {'freq': 18}),\n",
       " ('extrusion', {'freq': 21}),\n",
       " ('sustainable biomaterials', {'freq': 2}),\n",
       " ('mechanical recycling', {'freq': 3}),\n",
       " ('biodegradable plastic-degrading enzyme', {'freq': 5}),\n",
       " ('carbon fiber', {'freq': 3}),\n",
       " ('polymer composites', {'freq': 10}),\n",
       " ('paraphoma', {'freq': 2}),\n",
       " ('life cycle assessment', {'freq': 10}),\n",
       " ('superworm', {'freq': 5}),\n",
       " ('poly(3-hydroxybutyrate-co-3-hydroxyvalerate) (phbv)', {'freq': 16}),\n",
       " ('volatile fatty acids (vfa)', {'freq': 7}),\n",
       " ('genome sequencing', {'freq': 2}),\n",
       " ('dimethyl terephthalate', {'freq': 4}),\n",
       " ('high cell density', {'freq': 2}),\n",
       " ('depolymerase', {'freq': 7}),\n",
       " ('linum usitatissimum', {'freq': 3}),\n",
       " ('chitin', {'freq': 4}),\n",
       " ('adhesion', {'freq': 4}),\n",
       " ('bioactivity', {'freq': 4}),\n",
       " ('water sorption', {'freq': 2}),\n",
       " ('pseudozyma antarctica', {'freq': 8}),\n",
       " ('pseudomonas sp.', {'freq': 8}),\n",
       " ('biodegradable blends', {'freq': 3}),\n",
       " ('polyvinyl alcohol', {'freq': 37}),\n",
       " ('drug delivery systems', {'freq': 6}),\n",
       " ('biocatalysis', {'freq': 6}),\n",
       " ('actinobacteria', {'freq': 4}),\n",
       " ('circular economy', {'freq': 15}),\n",
       " ('adsorption', {'freq': 15}),\n",
       " ('bioplastics', {'freq': 125}),\n",
       " ('dibromoneopentyl glycol', {'freq': 2}),\n",
       " ('ldpe', {'freq': 31}),\n",
       " ('green plasticizer', {'freq': 5}),\n",
       " ('specific gas production rate', {'freq': 3}),\n",
       " ('tensile properties', {'freq': 8}),\n",
       " ('biocompatibility', {'freq': 37}),\n",
       " ('aliphatic', {'freq': 1}),\n",
       " ('black liquor', {'freq': 2}),\n",
       " ('phb', {'freq': 17}),\n",
       " ('water absorption', {'freq': 15}),\n",
       " ('compostable', {'freq': 10}),\n",
       " ('mechanical properties', {'freq': 177}),\n",
       " ('microorganisms', {'freq': 29}),\n",
       " ('film blowing', {'freq': 4}),\n",
       " ('paper waste', {'freq': 3}),\n",
       " ('blood storage bag', {'freq': 3}),\n",
       " ('crop productivity', {'freq': 2}),\n",
       " ('biomaterials', {'freq': 30}),\n",
       " ('aspergillus niger', {'freq': 5}),\n",
       " ('hydrolysis', {'freq': 13}),\n",
       " ('catch efficiency', {'freq': 3}),\n",
       " ('processing', {'freq': 6}),\n",
       " ('orientation', {'freq': 7}),\n",
       " ('litter', {'freq': 2}),\n",
       " ('methane oxidation', {'freq': 4}),\n",
       " ('bone tissue regeneration', {'freq': 2}),\n",
       " ('citric acid', {'freq': 6}),\n",
       " ('antibiotics', {'freq': 6}),\n",
       " ('microbial colonization', {'freq': 4}),\n",
       " ('accelerated mass spectrometry', {'freq': 4}),\n",
       " ('potato', {'freq': 3}),\n",
       " ('marine degradation', {'freq': 4}),\n",
       " ('yeast', {'freq': 4}),\n",
       " ('acrylic acid', {'freq': 2}),\n",
       " ('hydrogel', {'freq': 9}),\n",
       " ('lipase', {'freq': 15}),\n",
       " ('ftir', {'freq': 51}),\n",
       " ('terephthalic acid', {'freq': 4}),\n",
       " ('denaturing gradient gel electrophoresis', {'freq': 3}),\n",
       " ('trametes versicolor', {'freq': 4}),\n",
       " ('castor oil', {'freq': 4}),\n",
       " ('nanoplastics', {'freq': 14}),\n",
       " ('plastic pollution', {'freq': 38}),\n",
       " ('contamination', {'freq': 7}),\n",
       " ('n-butyl benzyl phthalate (bbp)', {'freq': 2}),\n",
       " ('ion-plasma technology', {'freq': 2}),\n",
       " ('block copolymers', {'freq': 9}),\n",
       " ('economic benefit', {'freq': 3}),\n",
       " ('liquefaction', {'freq': 5}),\n",
       " ('toughness', {'freq': 4}),\n",
       " ('dental restorative material', {'freq': 2}),\n",
       " ('dissolved organic matter', {'freq': 3}),\n",
       " ('keratin', {'freq': 2}),\n",
       " ('sewage sludge', {'freq': 7}),\n",
       " ('biorefinery', {'freq': 2}),\n",
       " ('poly-β-hydroxybutyric acid', {'freq': 5}),\n",
       " ('oxo-degradable', {'freq': 3}),\n",
       " ('microbial respiration', {'freq': 2}),\n",
       " ('plastic film mulching', {'freq': 8}),\n",
       " ('biogas', {'freq': 17}),\n",
       " ('sem', {'freq': 32}),\n",
       " ('bacillus amyloliquefaciens', {'freq': 5}),\n",
       " ('plastic bags', {'freq': 8}),\n",
       " ('evaporation', {'freq': 3}),\n",
       " ('plastic residue', {'freq': 3}),\n",
       " ('landfill leachate', {'freq': 4}),\n",
       " ('photodegradation', {'freq': 7}),\n",
       " ('phytoremediation', {'freq': 18}),\n",
       " ('gc-ms', {'freq': 10}),\n",
       " ('microstructure', {'freq': 10}),\n",
       " ('aspergillus', {'freq': 4}),\n",
       " ('p3(hb-co-hv)', {'freq': 2}),\n",
       " ('synthetic plastics', {'freq': 3}),\n",
       " ('biosurfactant', {'freq': 5}),\n",
       " ('evapotranspiration', {'freq': 4}),\n",
       " ('biodegradable plastic', {'freq': 165}),\n",
       " ('palm oil', {'freq': 2}),\n",
       " ('compostable plastic', {'freq': 3}),\n",
       " ('biodegradable pot', {'freq': 2}),\n",
       " ('polylactic acid', {'freq': 125}),\n",
       " ('soil biodegradation', {'freq': 20}),\n",
       " ('poly(l-lactide)', {'freq': 17}),\n",
       " ('surface roughness', {'freq': 3}),\n",
       " ('filamentous fungi', {'freq': 5}),\n",
       " ('photooxidation', {'freq': 10}),\n",
       " ('biodegradable film', {'freq': 34}),\n",
       " ('microbial ecotoxicology', {'freq': 2}),\n",
       " ('thermoplastic polyurethane', {'freq': 3}),\n",
       " ('thermo-mechanical properties', {'freq': 7}),\n",
       " ('jute', {'freq': 3}),\n",
       " ('crystal structure', {'freq': 4}),\n",
       " ('crystallinity', {'freq': 13}),\n",
       " ('bone marrow', {'freq': 2}),\n",
       " ('biofilm formation', {'freq': 5}),\n",
       " ('calcium stearate', {'freq': 2}),\n",
       " ('ftir-atr', {'freq': 5}),\n",
       " ('thermooxidation', {'freq': 2}),\n",
       " ('bacterial communities', {'freq': 2}),\n",
       " ('silage', {'freq': 2}),\n",
       " ('fiber treatment', {'freq': 2}),\n",
       " ('compostability', {'freq': 20}),\n",
       " ('dioctyl sulphosuccinate', {'freq': 2}),\n",
       " ('pro-oxidant solution', {'freq': 2}),\n",
       " ('3d printing', {'freq': 4}),\n",
       " ('termites', {'freq': 2}),\n",
       " ('runoff', {'freq': 2}),\n",
       " ('scanning electron microscopy (sem)', {'freq': 21}),\n",
       " ('physicochemical properties', {'freq': 3}),\n",
       " ('oil palm fiber', {'freq': 2}),\n",
       " ('ecotoxicity', {'freq': 9}),\n",
       " (\"distiller's grain\", {'freq': 2}),\n",
       " ('cell culture', {'freq': 4}),\n",
       " ('pseudomonas', {'freq': 15}),\n",
       " ('bacillus cereus', {'freq': 6}),\n",
       " ('scaffold', {'freq': 14}),\n",
       " ('plasticulture', {'freq': 4}),\n",
       " ('carbon source', {'freq': 3}),\n",
       " ('degradable plastics', {'freq': 7}),\n",
       " ('fragmentation', {'freq': 5}),\n",
       " ('bacterial community', {'freq': 10}),\n",
       " ('silanization', {'freq': 3}),\n",
       " ('electron-beam radiation', {'freq': 2}),\n",
       " ('polyethylene terephthalate (pet)', {'freq': 69}),\n",
       " ('paper cups', {'freq': 2}),\n",
       " ('nanocomposites', {'freq': 27}),\n",
       " ('pathogens', {'freq': 4}),\n",
       " ('functional bacteria', {'freq': 2}),\n",
       " ('in situ degradation', {'freq': 3}),\n",
       " ('actinomycetes', {'freq': 5}),\n",
       " ('spray-on mulch', {'freq': 2}),\n",
       " ('controlled-release fertilizers', {'freq': 3}),\n",
       " ('montmorillonite', {'freq': 4}),\n",
       " ('thiourea', {'freq': 3}),\n",
       " ('fungi', {'freq': 34}),\n",
       " ('polycarbonate', {'freq': 8}),\n",
       " ('marine sediments', {'freq': 4}),\n",
       " ('thermal properties', {'freq': 34}),\n",
       " ('greenhouse gas', {'freq': 3}),\n",
       " ('paper', {'freq': 11}),\n",
       " ('hybrid composites', {'freq': 6}),\n",
       " ('plastic mulch', {'freq': 4}),\n",
       " ('bacillus sp.', {'freq': 12}),\n",
       " ('soil burial', {'freq': 7}),\n",
       " ('in situ polymerization', {'freq': 5}),\n",
       " ('ldpe film', {'freq': 3}),\n",
       " ('wvtr', {'freq': 2}),\n",
       " ('lepidium sativum', {'freq': 2}),\n",
       " ('pyrosequencing', {'freq': 2}),\n",
       " ('heavy metals', {'freq': 13}),\n",
       " ('immobilization', {'freq': 19}),\n",
       " ('mulch film', {'freq': 16}),\n",
       " ('endocrine-disrupting chemical', {'freq': 4}),\n",
       " ('biopolymers and renewable polymers', {'freq': 12}),\n",
       " ('ring-opening polymerization', {'freq': 6}),\n",
       " ('aspergillus oryzae', {'freq': 4}),\n",
       " ('biocomposites', {'freq': 46}),\n",
       " ('streptomyces sp', {'freq': 8}),\n",
       " ('atrazine', {'freq': 4}),\n",
       " ('lca', {'freq': 10}),\n",
       " ('catalysts', {'freq': 6}),\n",
       " ('wood plastic composites', {'freq': 20}),\n",
       " ('degradability', {'freq': 5}),\n",
       " ('education', {'freq': 2}),\n",
       " ('bioaccumulation', {'freq': 6}),\n",
       " ('polyhydroxyvalerate', {'freq': 2}),\n",
       " ('bacillus megaterium', {'freq': 5}),\n",
       " ('date palm fibers', {'freq': 2}),\n",
       " ('vermicomposting', {'freq': 6}),\n",
       " ('cutinase', {'freq': 18}),\n",
       " ('deacetylation', {'freq': 3}),\n",
       " ('bacillus', {'freq': 11}),\n",
       " ('bioreactor', {'freq': 11}),\n",
       " ('polyethylene-graft-glycidyl methacrylate', {'freq': 2}),\n",
       " ('iso 13975', {'freq': 2}),\n",
       " ('crosslinking', {'freq': 17}),\n",
       " ('x-ray diffraction (xrd)', {'freq': 6}),\n",
       " ('rheological properties', {'freq': 5}),\n",
       " ('soil', {'freq': 41}),\n",
       " ('biodegradation', {'freq': 782}),\n",
       " ('yellow mealworms', {'freq': 2}),\n",
       " ('freshwater', {'freq': 3}),\n",
       " ('cytocompatibility', {'freq': 4}),\n",
       " ('rhizobium', {'freq': 2}),\n",
       " ('magnesium', {'freq': 13}),\n",
       " ('polymer degradation', {'freq': 13}),\n",
       " ('nano-biocomposites', {'freq': 5}),\n",
       " ('polyol', {'freq': 4}),\n",
       " ('cytotoxicity', {'freq': 11}),\n",
       " ('food waste', {'freq': 16}),\n",
       " ('thermoplastic elastomers', {'freq': 9}),\n",
       " ('soy protein isolate', {'freq': 8}),\n",
       " ('wood', {'freq': 8}),\n",
       " ('waste treatment', {'freq': 8}),\n",
       " ('biorenewable', {'freq': 3}),\n",
       " ('carbonyl index', {'freq': 4}),\n",
       " ('formaldehyde', {'freq': 2}),\n",
       " ('polyethylene', {'freq': 100}),\n",
       " ('poly(alkylene dicarboxylate)', {'freq': 2}),\n",
       " ('waste', {'freq': 13}),\n",
       " ('hdpe', {'freq': 8}),\n",
       " ('soil moisture', {'freq': 3}),\n",
       " ('enterobacter sp', {'freq': 4}),\n",
       " ('anaerobic degradation', {'freq': 5}),\n",
       " ('impact assessment', {'freq': 1}),\n",
       " ('nitrobenzene', {'freq': 2}),\n",
       " ('distribution', {'freq': 3}),\n",
       " ('bio-based plastics', {'freq': 13}),\n",
       " ('ftir spectroscopy', {'freq': 8}),\n",
       " ('poly(tetramethylene succinate)', {'freq': 3}),\n",
       " ('phbv', {'freq': 8}),\n",
       " ('nanoparticles', {'freq': 14}),\n",
       " ('hplc', {'freq': 3}),\n",
       " ('properties', {'freq': 9}),\n",
       " ('pha synthase', {'freq': 4}),\n",
       " ('polyhydroxyalkanoates (pha)', {'freq': 101}),\n",
       " ('1,6-hexanediol dibenzoate', {'freq': 2}),\n",
       " ('thermal stability', {'freq': 20}),\n",
       " ('summer season cropping', {'freq': 2}),\n",
       " ('ridge', {'freq': 2}),\n",
       " ('sorption', {'freq': 8}),\n",
       " ('waste reduction', {'freq': 5}),\n",
       " ('composites', {'freq': 74}),\n",
       " ('furrow', {'freq': 2}),\n",
       " ('zophobas atratus', {'freq': 4}),\n",
       " ('poly 3-hydroxybutyrate-co-3-hydroxyhexanoate (phbh)', {'freq': 4}),\n",
       " ('polyhydroxybutyrate', {'freq': 47}),\n",
       " ('plastisphere', {'freq': 22}),\n",
       " ('consumer behavior', {'freq': 4}),\n",
       " ('pseudomonas aeruginosa', {'freq': 11}),\n",
       " ('microbial consortium', {'freq': 10}),\n",
       " ('biodegradable metal', {'freq': 4}),\n",
       " ('polylactide', {'freq': 32}),\n",
       " ('pha', {'freq': 15}),\n",
       " ('tropical soils', {'freq': 2}),\n",
       " ('phthalates', {'freq': 15}),\n",
       " ('microbial enzymes', {'freq': 2}),\n",
       " ('upcycling', {'freq': 3}),\n",
       " ('renewable resources', {'freq': 18}),\n",
       " ('basalt', {'freq': 2}),\n",
       " ('plastic debris', {'freq': 10}),\n",
       " ('poly(p-dioxanone)', {'freq': 3}),\n",
       " ('galleria mellonella larvae', {'freq': 2}),\n",
       " ('co-digestion', {'freq': 4}),\n",
       " ('soy protein', {'freq': 14}),\n",
       " ('biopol', {'freq': 4}),\n",
       " ('thermoplastics', {'freq': 20}),\n",
       " ('polyethylene film', {'freq': 6}),\n",
       " ('polypropylene films', {'freq': 2}),\n",
       " ('maleate', {'freq': 3}),\n",
       " ('sustainability', {'freq': 13}),\n",
       " ('earthworms', {'freq': 6}),\n",
       " ('bacteria', {'freq': 42}),\n",
       " ('graft copolymer', {'freq': 13}),\n",
       " ('gillnet fishery', {'freq': 3}),\n",
       " ('grain refinement', {'freq': 2}),\n",
       " ('polyolefins', {'freq': 9}),\n",
       " ('mesenchymal stem cells', {'freq': 4}),\n",
       " ('microbial community', {'freq': 30}),\n",
       " ('fatty acid', {'freq': 2}),\n",
       " ('fruit', {'freq': 2}),\n",
       " ('thermogravimetric analysis (tga)', {'freq': 11}),\n",
       " ('edx', {'freq': 2}),\n",
       " ('thermophilic', {'freq': 2}),\n",
       " ('household waste', {'freq': 3}),\n",
       " ('electrospinning', {'freq': 13}),\n",
       " ('oxo-biodegradation', {'freq': 8}),\n",
       " ('hydroxyalkylation', {'freq': 4}),\n",
       " ('pah', {'freq': 3}),\n",
       " ('waste activated sludge', {'freq': 3}),\n",
       " ('escherichia coli', {'freq': 5}),\n",
       " ('fourier transform infrared spectroscopy (ftir)', {'freq': 16}),\n",
       " ('hydrogen sulfide', {'freq': 5}),\n",
       " ('marine environment', {'freq': 10}),\n",
       " ('plastic degradation', {'freq': 16}),\n",
       " ('bis(2-hydroxyethyl) terephthalate (bhet)', {'freq': 3}),\n",
       " ('high-density polyethylene (hdpe)', {'freq': 13}),\n",
       " ('hydrophilicity', {'freq': 6}),\n",
       " ('disposal', {'freq': 4}),\n",
       " ('oxidation', {'freq': 5}),\n",
       " ('methanotrophs', {'freq': 5}),\n",
       " ('protein', {'freq': 12}),\n",
       " ('natural polymers', {'freq': 3}),\n",
       " ('p(3hb)', {'freq': 3}),\n",
       " ('controlled release', {'freq': 12}),\n",
       " ('poly(ε-caprolactone)', {'freq': 87}),\n",
       " ('sem analysis', {'freq': 2}),\n",
       " ('extraction', {'freq': 5}),\n",
       " ('dihexyl sulphosuccinate', {'freq': 2}),\n",
       " ('16s rrna', {'freq': 10}),\n",
       " ('biofouling', {'freq': 6}),\n",
       " ('biological processes', {'freq': 2}),\n",
       " ('vascular graft', {'freq': 3}),\n",
       " ('poly-3-hydroxybutyrate (phb)', {'freq': 38}),\n",
       " ('mineralization', {'freq': 8}),\n",
       " ('marine water', {'freq': 3}),\n",
       " ('degradable/biodegradable plastics', {'freq': 2}),\n",
       " ('removal efficiency', {'freq': 3}),\n",
       " ('polysaccharide-protein complexes', {'freq': 4}),\n",
       " ('organically modified layered silicates', {'freq': 2}),\n",
       " ('morphology', {'freq': 18}),\n",
       " ('mulch degradation', {'freq': 3}),\n",
       " ('film', {'freq': 9}),\n",
       " ('depolymerization', {'freq': 5}),\n",
       " ('wastewater', {'freq': 14}),\n",
       " ('biopolyols', {'freq': 4}),\n",
       " ('polyvinyl chloride', {'freq': 18}),\n",
       " ('insect larvae', {'freq': 7}),\n",
       " ('soil burial test', {'freq': 2}),\n",
       " ('brominated flame retardants', {'freq': 4}),\n",
       " ('phytotoxicity', {'freq': 8}),\n",
       " ('epoxidized sunflower oil', {'freq': 2}),\n",
       " ('metabolites', {'freq': 8}),\n",
       " ('greenwashing', {'freq': 2}),\n",
       " ('pbat', {'freq': 17}),\n",
       " ('copolymer', {'freq': 12}),\n",
       " ('plant growth', {'freq': 7}),\n",
       " ('ph', {'freq': 4}),\n",
       " ('polyurethane foam (puf)', {'freq': 2}),\n",
       " ('acetate', {'freq': 4}),\n",
       " ('metagenomics', {'freq': 12}),\n",
       " ('irrigation pipes', {'freq': 2}),\n",
       " ('microplastic pollution', {'freq': 7}),\n",
       " ('flame retardant', {'freq': 6}),\n",
       " ('multiblock copolymers', {'freq': 7}),\n",
       " ('photopolymerization', {'freq': 4}),\n",
       " ('pvc', {'freq': 13}),\n",
       " ('dsc', {'freq': 12}),\n",
       " ('grafted starch', {'freq': 2}),\n",
       " ('phytoextraction', {'freq': 2}),\n",
       " ('macroplastic', {'freq': 3}),\n",
       " ('polyurethane foam', {'freq': 37}),\n",
       " ('synthetic polymers', {'freq': 5}),\n",
       " ('surface area', {'freq': 3}),\n",
       " ('ghost fishing', {'freq': 2}),\n",
       " ('organophosphate esters', {'freq': 4}),\n",
       " ('mechanical-biological treatment', {'freq': 5}),\n",
       " ('defined consortium', {'freq': 2}),\n",
       " ('antioxidant', {'freq': 3}),\n",
       " ('bioremediation', {'freq': 53}),\n",
       " ('nanocellulose', {'freq': 5}),\n",
       " ('corncob', {'freq': 4}),\n",
       " ('biofibers', {'freq': 6}),\n",
       " ('compost', {'freq': 24}),\n",
       " ('biomass', {'freq': 15}),\n",
       " ('cellulose acetate', {'freq': 19}),\n",
       " ('injection molding', {'freq': 14}),\n",
       " ('amylases', {'freq': 4}),\n",
       " ('tetracycline', {'freq': 3}),\n",
       " ('pretreatment', {'freq': 5}),\n",
       " ('poly(dl-lactic-co-glycolic acid) (plga)', {'freq': 4}),\n",
       " ('kinetics', {'freq': 17}),\n",
       " ('priming effect', {'freq': 2}),\n",
       " ('atomic layer deposition (ald)', {'freq': 2}),\n",
       " ('settlement', {'freq': 3}),\n",
       " ('consortium', {'freq': 3}),\n",
       " ('waste management', {'freq': 25}),\n",
       " ('cutinase-type polyesterase', {'freq': 2}),\n",
       " ('a. wood', {'freq': 2}),\n",
       " ('methane fermentation', {'freq': 6}),\n",
       " ('starch', {'freq': 87}),\n",
       " ('industrial wastewater', {'freq': 4}),\n",
       " ('rainwater harvesting', {'freq': 2}),\n",
       " ('biodegradable', {'freq': 187}),\n",
       " ('cadmium', {'freq': 3}),\n",
       " ('barrier', {'freq': 4}),\n",
       " ('microcosm', {'freq': 5}),\n",
       " ('plastic polymers', {'freq': 5}),\n",
       " ('tensile strength', {'freq': 19}),\n",
       " ('short fibre composites', {'freq': 2}),\n",
       " ('gloeophyllum trabeum', {'freq': 3}),\n",
       " ('capacitively coupled plasma', {'freq': 2}),\n",
       " ('afm', {'freq': 5}),\n",
       " ('tenebrio molitor', {'freq': 8}),\n",
       " ('lignocellulose', {'freq': 5}),\n",
       " ('whole-cell biocatalyst', {'freq': 5}),\n",
       " ('msw', {'freq': 3}),\n",
       " ('corrosion', {'freq': 9}),\n",
       " ('films', {'freq': 18}),\n",
       " ('lactic acid', {'freq': 13}),\n",
       " ('polyurethane', {'freq': 54}),\n",
       " ('natural fiber', {'freq': 30}),\n",
       " ('textiles', {'freq': 3}),\n",
       " ('green technology', {'freq': 3}),\n",
       " ('chemical changes', {'freq': 3}),\n",
       " ('biotrickling filter', {'freq': 8}),\n",
       " ('astm d 5988–12', {'freq': 2}),\n",
       " ('biotechnology', {'freq': 4}),\n",
       " ('coating', {'freq': 16}),\n",
       " ('biodegradability', {'freq': 131}),\n",
       " ('phthalic acid', {'freq': 3}),\n",
       " ('polyethylene succinate (pes)', {'freq': 2}),\n",
       " ('nuclear magnetic resonance (nmr) spectroscopy', {'freq': 2}),\n",
       " ('compatibilization', {'freq': 7}),\n",
       " ('lignocellulosic fibers', {'freq': 2}),\n",
       " ('polycondensation', {'freq': 12}),\n",
       " ('hmm', {'freq': 1}),\n",
       " ('polybutylene co-adipate- co-terephthalate (pbat)', {'freq': 16}),\n",
       " ('zophobas', {'freq': 2}),\n",
       " ('dimensional stability', {'freq': 2}),\n",
       " ('thermoplastic starch', {'freq': 65}),\n",
       " ('biodegradation rate', {'freq': 10}),\n",
       " ('silica-based biomaterials', {'freq': 3}),\n",
       " ('100%-degradable bags', {'freq': 2}),\n",
       " ('mechanical testing', {'freq': 6}),\n",
       " ('poly(butylene succinate) (pbs)', {'freq': 38}),\n",
       " ('metabolic pathways', {'freq': 8}),\n",
       " ('metagenome', {'freq': 7}),\n",
       " ('activation energy', {'freq': 3}),\n",
       " ('respirometry', {'freq': 10}),\n",
       " ('thermophile', {'freq': 5}),\n",
       " ('thiobacillus thioparus', {'freq': 2}),\n",
       " ('response surface methodology (rsm)', {'freq': 14}),\n",
       " ('crystallization', {'freq': 6}),\n",
       " ('xenobiotics', {'freq': 4}),\n",
       " ('permeability', {'freq': 7}),\n",
       " ('eps', {'freq': 5}),\n",
       " ('random copolymers', {'freq': 3}),\n",
       " ('microcystin', {'freq': 3}),\n",
       " ('silica nanoparticles', {'freq': 3}),\n",
       " ('plastic film', {'freq': 10}),\n",
       " ('aromatic', {'freq': 1}),\n",
       " ('serine hydrolase', {'freq': 2}),\n",
       " ('polyethylene glycol (peg)', {'freq': 16}),\n",
       " ('drippers', {'freq': 2}),\n",
       " ('phb depolymerase', {'freq': 2}),\n",
       " ('polycaprolactone (pcl)', {'freq': 6}),\n",
       " ('recycling', {'freq': 22}),\n",
       " ('drug release', {'freq': 6}),\n",
       " ('seed film-coating', {'freq': 2}),\n",
       " ('arthrobacter globiformis', {'freq': 2}),\n",
       " ('plastic-degrading fungi', {'freq': 2}),\n",
       " ('lysozyme stability', {'freq': 2}),\n",
       " ('aquatic environment', {'freq': 4}),\n",
       " ('biofilter', {'freq': 9}),\n",
       " ('nitric oxide', {'freq': 2}),\n",
       " ('wood flour', {'freq': 3}),\n",
       " ('pvc medical device', {'freq': 2}),\n",
       " ('sludge retention time (srt)', {'freq': 3}),\n",
       " ('taguchi', {'freq': 2}),\n",
       " ('polybutylene succinate-co-adipate (pbsa)', {'freq': 7}),\n",
       " ('nanofiber', {'freq': 5}),\n",
       " ('toluene', {'freq': 4}),\n",
       " ('gamma irradiation', {'freq': 11}),\n",
       " ('antimicrobial property', {'freq': 2}),\n",
       " ('biodegradable plastic mulch', {'freq': 10}),\n",
       " ('cellulose fibers', {'freq': 8}),\n",
       " ('biodegradable microplastics', {'freq': 14}),\n",
       " ('thermal analysis', {'freq': 12}),\n",
       " ('sugarcane waste ash', {'freq': 2}),\n",
       " ('interface', {'freq': 4}),\n",
       " ('pla', {'freq': 38}),\n",
       " ('decolorization', {'freq': 9}),\n",
       " ('water use efficiency', {'freq': 12}),\n",
       " ('galleria mellonella', {'freq': 9}),\n",
       " ('characterization', {'freq': 16}),\n",
       " ('uv irradiation', {'freq': 12}),\n",
       " ('cellulose', {'freq': 28}),\n",
       " ('pineapple leaf fiber', {'freq': 3}),\n",
       " ('mechanical pretreatment', {'freq': 3}),\n",
       " ('hydrolases', {'freq': 5}),\n",
       " ('cross-linked', {'freq': 5}),\n",
       " ('saccharomonospora viridis ahk190', {'freq': 2}),\n",
       " ('isolation', {'freq': 6}),\n",
       " ('di(2-ethylhexyl) phthalate', {'freq': 12}),\n",
       " ('plastic biodegradation', {'freq': 36}),\n",
       " ('bhet', {'freq': 2}),\n",
       " ('antimicrobial activity', {'freq': 7}),\n",
       " ('leachate', {'freq': 16})]"
      ]
     },
     "execution_count": 76,
     "metadata": {},
     "output_type": "execute_result"
    }
   ],
   "source": [
    "[i for i in H.nodes(data=True)]"
   ]
  },
  {
   "cell_type": "markdown",
   "metadata": {},
   "source": [
    "## remove top nodes with obivious keywords from search "
   ]
  },
  {
   "cell_type": "code",
   "execution_count": 83,
   "metadata": {},
   "outputs": [
    {
     "data": {
      "text/plain": [
       "['biodegradation',\n",
       " 'biodegradable',\n",
       " 'mechanical properties',\n",
       " 'microplastics',\n",
       " 'biodegradable plastic',\n",
       " 'degradation',\n",
       " 'biodegradability',\n",
       " 'bioplastics',\n",
       " 'polylactic acid',\n",
       " 'plastics',\n",
       " 'biodegradable polymers',\n",
       " 'polyhydroxyalkanoates (pha)',\n",
       " 'polyethylene',\n",
       " 'poly(ε-caprolactone)',\n",
       " 'starch',\n",
       " 'biofilm',\n",
       " 'biopolymers',\n",
       " 'composites',\n",
       " 'polyethylene terephthalate (pet)',\n",
       " 'thermoplastic starch']"
      ]
     },
     "execution_count": 83,
     "metadata": {},
     "output_type": "execute_result"
    }
   ],
   "source": [
    "[j[0] for j in sorted([i for i in H.nodes(data=True)],key=lambda i:i[1]['freq'], reverse=True)[:20]]"
   ]
  },
  {
   "cell_type": "code",
   "execution_count": 113,
   "metadata": {},
   "outputs": [],
   "source": [
    "n_remove=['biodegradation']"
   ]
  },
  {
   "cell_type": "code",
   "execution_count": 114,
   "metadata": {},
   "outputs": [
    {
     "ename": "NetworkXError",
     "evalue": "Frozen graph can't be modified",
     "output_type": "error",
     "traceback": [
      "\u001b[0;31m---------------------------------------------------------------------------\u001b[0m",
      "\u001b[0;31mNetworkXError\u001b[0m                             Traceback (most recent call last)",
      "\u001b[0;32m/tmp/ipykernel_5738/3927598756.py\u001b[0m in \u001b[0;36m<module>\u001b[0;34m\u001b[0m\n\u001b[0;32m----> 1\u001b[0;31m \u001b[0mH\u001b[0m\u001b[0;34m.\u001b[0m\u001b[0mremove_nodes_from\u001b[0m\u001b[0;34m(\u001b[0m\u001b[0mn_remove\u001b[0m\u001b[0;34m)\u001b[0m\u001b[0;34m\u001b[0m\u001b[0;34m\u001b[0m\u001b[0m\n\u001b[0m",
      "\u001b[0;32m~/anaconda3/lib/python3.7/site-packages/networkx/classes/function.py\u001b[0m in \u001b[0;36mfrozen\u001b[0;34m(*args, **kwargs)\u001b[0m\n\u001b[1;32m    156\u001b[0m \u001b[0;32mdef\u001b[0m \u001b[0mfrozen\u001b[0m\u001b[0;34m(\u001b[0m\u001b[0;34m*\u001b[0m\u001b[0margs\u001b[0m\u001b[0;34m,\u001b[0m \u001b[0;34m**\u001b[0m\u001b[0mkwargs\u001b[0m\u001b[0;34m)\u001b[0m\u001b[0;34m:\u001b[0m\u001b[0;34m\u001b[0m\u001b[0;34m\u001b[0m\u001b[0m\n\u001b[1;32m    157\u001b[0m     \u001b[0;34m\"\"\"Dummy method for raising errors when trying to modify frozen graphs\"\"\"\u001b[0m\u001b[0;34m\u001b[0m\u001b[0;34m\u001b[0m\u001b[0m\n\u001b[0;32m--> 158\u001b[0;31m     \u001b[0;32mraise\u001b[0m \u001b[0mnx\u001b[0m\u001b[0;34m.\u001b[0m\u001b[0mNetworkXError\u001b[0m\u001b[0;34m(\u001b[0m\u001b[0;34m\"Frozen graph can't be modified\"\u001b[0m\u001b[0;34m)\u001b[0m\u001b[0;34m\u001b[0m\u001b[0;34m\u001b[0m\u001b[0m\n\u001b[0m\u001b[1;32m    159\u001b[0m \u001b[0;34m\u001b[0m\u001b[0m\n\u001b[1;32m    160\u001b[0m \u001b[0;34m\u001b[0m\u001b[0m\n",
      "\u001b[0;31mNetworkXError\u001b[0m: Frozen graph can't be modified"
     ]
    }
   ],
   "source": [
    "H.remove_nodes_from(n_remove)"
   ]
  },
  {
   "cell_type": "code",
   "execution_count": 115,
   "metadata": {},
   "outputs": [
    {
     "data": {
      "text/plain": [
       "True"
      ]
     },
     "execution_count": 115,
     "metadata": {},
     "output_type": "execute_result"
    }
   ],
   "source": [
    "nx.is_frozen(H)"
   ]
  },
  {
   "cell_type": "code",
   "execution_count": 116,
   "metadata": {},
   "outputs": [],
   "source": [
    "C = nx.Graph(H)"
   ]
  },
  {
   "cell_type": "code",
   "execution_count": 117,
   "metadata": {},
   "outputs": [
    {
     "data": {
      "text/plain": [
       "False"
      ]
     },
     "execution_count": 117,
     "metadata": {},
     "output_type": "execute_result"
    }
   ],
   "source": [
    "nx.is_frozen(C)"
   ]
  },
  {
   "cell_type": "code",
   "execution_count": 118,
   "metadata": {},
   "outputs": [],
   "source": [
    "C.remove_nodes_from(n_remove)"
   ]
  },
  {
   "cell_type": "code",
   "execution_count": 119,
   "metadata": {},
   "outputs": [
    {
     "data": {
      "text/plain": [
       "817"
      ]
     },
     "execution_count": 119,
     "metadata": {},
     "output_type": "execute_result"
    }
   ],
   "source": [
    "C.number_of_nodes()"
   ]
  },
  {
   "cell_type": "code",
   "execution_count": 120,
   "metadata": {},
   "outputs": [
    {
     "data": {
      "text/plain": [
       "1860"
      ]
     },
     "execution_count": 120,
     "metadata": {},
     "output_type": "execute_result"
    }
   ],
   "source": [
    "C.number_of_edges()"
   ]
  },
  {
   "cell_type": "code",
   "execution_count": 121,
   "metadata": {},
   "outputs": [
    {
     "data": {
      "text/plain": [
       "818"
      ]
     },
     "execution_count": 121,
     "metadata": {},
     "output_type": "execute_result"
    }
   ],
   "source": [
    "H.number_of_nodes()"
   ]
  },
  {
   "cell_type": "code",
   "execution_count": 122,
   "metadata": {},
   "outputs": [
    {
     "data": {
      "text/plain": [
       "2263"
      ]
     },
     "execution_count": 122,
     "metadata": {},
     "output_type": "execute_result"
    }
   ],
   "source": [
    "H.number_of_edges()"
   ]
  },
  {
   "cell_type": "markdown",
   "metadata": {},
   "source": [
    "### After removing the highly connected  node which are directlly related to search term plastic degradation,\n",
    "### We reduce number of nodes from 818 to 817 and number of edges to 1860 from 2263"
   ]
  },
  {
   "cell_type": "code",
   "execution_count": 123,
   "metadata": {},
   "outputs": [
    {
     "data": {
      "text/plain": [
       "103"
      ]
     },
     "execution_count": 123,
     "metadata": {},
     "output_type": "execute_result"
    }
   ],
   "source": [
    "nx.number_connected_components(C)"
   ]
  },
  {
   "cell_type": "code",
   "execution_count": 124,
   "metadata": {
    "scrolled": true
   },
   "outputs": [
    {
     "data": {
      "text/plain": [
       "[707,\n",
       " 4,\n",
       " 3,\n",
       " 2,\n",
       " 2,\n",
       " 2,\n",
       " 1,\n",
       " 1,\n",
       " 1,\n",
       " 1,\n",
       " 1,\n",
       " 1,\n",
       " 1,\n",
       " 1,\n",
       " 1,\n",
       " 1,\n",
       " 1,\n",
       " 1,\n",
       " 1,\n",
       " 1,\n",
       " 1,\n",
       " 1,\n",
       " 1,\n",
       " 1,\n",
       " 1,\n",
       " 1,\n",
       " 1,\n",
       " 1,\n",
       " 1,\n",
       " 1,\n",
       " 1,\n",
       " 1,\n",
       " 1,\n",
       " 1,\n",
       " 1,\n",
       " 1,\n",
       " 1,\n",
       " 1,\n",
       " 1,\n",
       " 1,\n",
       " 1,\n",
       " 1,\n",
       " 1,\n",
       " 1,\n",
       " 1,\n",
       " 1,\n",
       " 1,\n",
       " 1,\n",
       " 1,\n",
       " 1,\n",
       " 1,\n",
       " 1,\n",
       " 1,\n",
       " 1,\n",
       " 1,\n",
       " 1,\n",
       " 1,\n",
       " 1,\n",
       " 1,\n",
       " 1,\n",
       " 1,\n",
       " 1,\n",
       " 1,\n",
       " 1,\n",
       " 1,\n",
       " 1,\n",
       " 1,\n",
       " 1,\n",
       " 1,\n",
       " 1,\n",
       " 1,\n",
       " 1,\n",
       " 1,\n",
       " 1,\n",
       " 1,\n",
       " 1,\n",
       " 1,\n",
       " 1,\n",
       " 1,\n",
       " 1,\n",
       " 1,\n",
       " 1,\n",
       " 1,\n",
       " 1,\n",
       " 1,\n",
       " 1,\n",
       " 1,\n",
       " 1,\n",
       " 1,\n",
       " 1,\n",
       " 1,\n",
       " 1,\n",
       " 1,\n",
       " 1,\n",
       " 1,\n",
       " 1,\n",
       " 1,\n",
       " 1,\n",
       " 1,\n",
       " 1,\n",
       " 1,\n",
       " 1,\n",
       " 1]"
      ]
     },
     "execution_count": 124,
     "metadata": {},
     "output_type": "execute_result"
    }
   ],
   "source": [
    "sorted([len(i) for i in list(nx.connected_components(C))],reverse=True)"
   ]
  },
  {
   "cell_type": "code",
   "execution_count": 125,
   "metadata": {},
   "outputs": [
    {
     "data": {
      "text/plain": [
       "97"
      ]
     },
     "execution_count": 125,
     "metadata": {},
     "output_type": "execute_result"
    }
   ],
   "source": [
    "sum([True for i in list(nx.connected_components(C)) if len(i)==1])"
   ]
  },
  {
   "cell_type": "markdown",
   "metadata": {},
   "source": [
    "### Out of 103 component found after removing the nodes, 97 are found singleton and directly connected to highly connected node"
   ]
  },
  {
   "cell_type": "code",
   "execution_count": 139,
   "metadata": {},
   "outputs": [],
   "source": [
    "largest_cc = max(nx.connected_components(C), key=len)"
   ]
  },
  {
   "cell_type": "code",
   "execution_count": 140,
   "metadata": {},
   "outputs": [],
   "source": [
    "H=C.subgraph(largest_cc)"
   ]
  },
  {
   "cell_type": "markdown",
   "metadata": {},
   "source": [
    "## retest the power law distribution "
   ]
  },
  {
   "cell_type": "code",
   "execution_count": 141,
   "metadata": {},
   "outputs": [],
   "source": [
    "degree_dist=collections.Counter([i[1] for i in H.degree()])"
   ]
  },
  {
   "cell_type": "code",
   "execution_count": 142,
   "metadata": {
    "collapsed": true
   },
   "outputs": [
    {
     "data": {
      "image/png": "[encoded data removed]",
      "text/plain": [
       "<Figure size 1080x720 with 1 Axes>"
      ]
     },
     "metadata": {
      "needs_background": "light"
     },
     "output_type": "display_data"
    }
   ],
   "source": [
    "fig, ax = plt.subplots(figsize=(15, 10))\n",
    "ax.plot([i for i in sorted(degree_dist)], [degree_dist[i] for i in sorted(degree_dist)])\n",
    "ax.set_title('Degree distribution of author keyword network',fontsize=20)\n",
    "ax.set_ylabel('frequency of degree',fontsize=14)\n",
    "ax.set_xlabel('Nodes degree',fontsize=18)\n",
    "plt.savefig('edge_freq_distribution_author_keywords.png',dpi=300)"
   ]
  },
  {
   "cell_type": "code",
   "execution_count": 172,
   "metadata": {
    "collapsed": true
   },
   "outputs": [
    {
     "data": {
      "image/png": "[encoded data removed]",
      "text/plain": [
       "<Figure size 1080x720 with 1 Axes>"
      ]
     },
     "metadata": {
      "needs_background": "light"
     },
     "output_type": "display_data"
    }
   ],
   "source": [
    "fig, ax = plt.subplots(figsize=(15, 10))\n",
    "ax.plot([np.log(i) for i in sorted(degree_dist)], [np.log(degree_dist[i]) for i in sorted(degree_dist)])\n",
    "ax.set_title('Degree distribution of author keyword network',fontsize=20)\n",
    "ax.set_ylabel('frequency of degree',fontsize=14)\n",
    "ax.set_xlabel('Nodes degree',fontsize=18)\n",
    "plt.savefig('edge_freq_distribution_author_keywords.png',dpi=300)"
   ]
  },
  {
   "cell_type": "markdown",
   "metadata": {},
   "source": [
    "## fitting a line on log log plot"
   ]
  },
  {
   "cell_type": "code",
   "execution_count": 171,
   "metadata": {},
   "outputs": [],
   "source": [
    "powerlaw = lambda x, amp, index: amp * (x**index)"
   ]
  },
  {
   "cell_type": "code",
   "execution_count": 241,
   "metadata": {},
   "outputs": [],
   "source": [
    "def fitfunc(x,a,b):\n",
    "    return a+(b*x)"
   ]
  },
  {
   "cell_type": "code",
   "execution_count": 190,
   "metadata": {},
   "outputs": [],
   "source": [
    "x=[np.log(i) for i in sorted(degree_dist)]"
   ]
  },
  {
   "cell_type": "code",
   "execution_count": 191,
   "metadata": {},
   "outputs": [],
   "source": [
    "y=[np.log(degree_dist[i]) for i in sorted(degree_dist)]"
   ]
  },
  {
   "cell_type": "code",
   "execution_count": 199,
   "metadata": {},
   "outputs": [],
   "source": [
    "from scipy.optimize import curve_fit\n"
   ]
  },
  {
   "cell_type": "code",
   "execution_count": 253,
   "metadata": {},
   "outputs": [],
   "source": [
    "popt, pcov = curve_fit(fitfunc, x, y,p0=[1,-1],maxfev=2000)"
   ]
  },
  {
   "cell_type": "code",
   "execution_count": 254,
   "metadata": {},
   "outputs": [
    {
     "data": {
      "text/plain": [
       "array([ 5.05991189, -1.30126932])"
      ]
     },
     "execution_count": 254,
     "metadata": {},
     "output_type": "execute_result"
    }
   ],
   "source": [
    "popt"
   ]
  },
  {
   "cell_type": "code",
   "execution_count": 252,
   "metadata": {},
   "outputs": [
    {
     "data": {
      "text/plain": [
       "array([ 5.05991189, -1.30126932])"
      ]
     },
     "execution_count": 252,
     "metadata": {},
     "output_type": "execute_result"
    }
   ],
   "source": [
    "popt"
   ]
  },
  {
   "cell_type": "code",
   "execution_count": 255,
   "metadata": {},
   "outputs": [
    {
     "data": {
      "text/plain": [
       "array([[ 0.0901656 , -0.02655179],\n",
       "       [-0.02655179,  0.00873219]])"
      ]
     },
     "execution_count": 255,
     "metadata": {},
     "output_type": "execute_result"
    }
   ],
   "source": [
    "pcov"
   ]
  },
  {
   "cell_type": "code",
   "execution_count": 294,
   "metadata": {},
   "outputs": [
    {
     "data": {
      "image/png": "[encoded data removed]",
      "text/plain": [
       "<Figure size 720x576 with 1 Axes>"
      ]
     },
     "metadata": {
      "needs_background": "light"
     },
     "output_type": "display_data"
    }
   ],
   "source": [
    "fig, ax = plt.subplots(figsize=(10, 8))\n",
    "ax.scatter(x,y)\n",
    "ax.plot(xdata,ydata,color='red')\n",
    "ax.text(3, 5, 'log(y) = log(amp) + index*log(x)', fontsize=12,color='red')\n",
    "ax.text(3, 4.7, 'log(amp) = %5.2f ' %(popt[0]),fontsize=12)\n",
    "ax.text(3, 4.4, 'index = %5.2f ' %(popt[1]),fontsize=12)\n",
    "ax.set_title('log log degree distribution of author keyword network',fontsize=16)\n",
    "ax.set_xlabel('log(Degree of Node)',fontsize=16)\n",
    "ax.set_ylabel('log(frequency)', fontsize=16)\n",
    "plt.savefig('log log degree distribution of author keyword network.png',dpi=300)"
   ]
  },
  {
   "cell_type": "code",
   "execution_count": 223,
   "metadata": {},
   "outputs": [],
   "source": [
    "xdata = np.linspace(0, 5, 50)      "
   ]
  },
  {
   "cell_type": "code",
   "execution_count": 245,
   "metadata": {},
   "outputs": [],
   "source": [
    "ydata= fitfunc(xdata,popt[0],popt[1])"
   ]
  },
  {
   "cell_type": "code",
   "execution_count": 242,
   "metadata": {},
   "outputs": [
    {
     "data": {
      "text/plain": [
       "1.6458467305293356"
      ]
     },
     "execution_count": 242,
     "metadata": {},
     "output_type": "execute_result"
    }
   ],
   "source": [
    "fitfunc(0,popt[0],popt[1])"
   ]
  },
  {
   "cell_type": "code",
   "execution_count": 257,
   "metadata": {},
   "outputs": [],
   "source": [
    "amp = np.e**popt[0]"
   ]
  },
  {
   "cell_type": "code",
   "execution_count": 261,
   "metadata": {
    "collapsed": true
   },
   "outputs": [
    {
     "data": {
      "text/plain": [
       "array([157.57663241,  63.93971823,  37.7249407 ,  25.94475783,\n",
       "        19.40633817,  15.30761282,  12.52540178,  10.52757937,\n",
       "         9.03161293,   7.87449113,   6.9559983 ,   6.2113553 ,\n",
       "         5.59695107,   5.08242021,   4.6460122 ,   4.27176573,\n",
       "         3.94772042,   3.66474887,   3.41577291,   3.19522468,\n",
       "         2.99866822,   2.82252872,   2.66389538,   2.52037565,\n",
       "         2.3899861 ,   2.27106944,   2.16223089,   2.06228875,\n",
       "         1.97023564,   1.88520789,   1.80646105,   1.73335026,\n",
       "         1.66531433,   1.60186271,   1.5425649 ,   1.48704162,\n",
       "         1.43495747,   1.38601488,   1.33994897,   1.29652324,\n",
       "         1.25552588,   1.21676671,   1.18007452,   1.14529476,\n",
       "         1.1122876 ,   1.08092626,   1.0510955 ,   1.0226904 ,\n",
       "         0.9956152 ,   0.96978236,   0.9451117 ,   0.92152966,\n",
       "         0.89896862,   0.87736634,   0.85666544,   0.83681292,\n",
       "         0.81775977,   0.79946062,   0.78187338,   0.76495899,\n",
       "         0.74868112,   0.73300596,   0.71790201,   0.70333987,\n",
       "         0.68929208,   0.67573299,   0.66263856,   0.64998629,\n",
       "         0.63775506,   0.62592507,   0.6144777 ,   0.60339544,\n",
       "         0.59266182,   0.58226131,   0.57217928,   0.56240192,\n",
       "         0.5529162 ,   0.5437098 ,   0.53477107,   0.52608898,\n",
       "         0.5176531 ,   0.50945352,   0.50148088,   0.49372626,\n",
       "         0.48618121,   0.4788377 ,   0.4716881 ,   0.46472515,\n",
       "         0.45794193,   0.45133187,   0.44488869,   0.43860641,\n",
       "         0.43247933,   0.42650201,   0.42066925,   0.4149761 ,\n",
       "         0.4094178 ,   0.40398982,   0.39868782,   0.39350765])"
      ]
     },
     "execution_count": 261,
     "metadata": {},
     "output_type": "execute_result"
    }
   ],
   "source": [
    "y=powerlaw(np.linspace(1,100,100),amp,popt[1])"
   ]
  },
  {
   "cell_type": "code",
   "execution_count": 286,
   "metadata": {},
   "outputs": [
    {
     "data": {
      "image/png": "[encoded data removed]",
      "text/plain": [
       "<Figure size 720x576 with 1 Axes>"
      ]
     },
     "metadata": {
      "needs_background": "light"
     },
     "output_type": "display_data"
    }
   ],
   "source": [
    "fig, ax = plt.subplots(figsize=(10, 8))\n",
    "ax.scatter([i for i in sorted(degree_dist)], [degree_dist[i] for i in sorted(degree_dist)])\n",
    "ax.plot(np.linspace(1,100,100),powerlaw(np.linspace(1,100,100),amp,popt[1]),color='red')\n",
    "ax.text(60, 225, 'Ampli = %5.2f ' %(amp),fontsize=12)\n",
    "ax.text(60, 215, 'Index = %5.2f ' %(popt[1]),fontsize=12)\n",
    "ax.text(60, 240, 'y = amp * (x**index)', fontsize=12,color='red')\n",
    "ax.set_title('Degree distribution of author keyword network',fontsize=16)\n",
    "ax.set_xlabel('Degree of Node',fontsize=16)\n",
    "ax.set_ylabel('Frequency', fontsize=16)\n",
    "plt.savefig('Degree distribution of author keyword network.png',dpi=300)"
   ]
  },
  {
   "cell_type": "markdown",
   "metadata": {},
   "source": [
    "## Node frequency distribution "
   ]
  },
  {
   "cell_type": "code",
   "execution_count": 300,
   "metadata": {},
   "outputs": [
    {
     "data": {
      "text/plain": [
       "<seaborn.axisgrid.FacetGrid at 0x7f2b0dcabfd0>"
      ]
     },
     "execution_count": 300,
     "metadata": {},
     "output_type": "execute_result"
    },
    {
     "data": {
      "image/png": "[encoded data removed]",
      "text/plain": [
       "<Figure size 360x360 with 1 Axes>"
      ]
     },
     "metadata": {
      "needs_background": "light"
     },
     "output_type": "display_data"
    }
   ],
   "source": [
    "sns.displot([i[1]['freq'] for i in H.nodes(data=True)])"
   ]
  },
  {
   "cell_type": "code",
   "execution_count": 304,
   "metadata": {},
   "outputs": [],
   "source": [
    "node_dist=collections.Counter([i[1]['freq'] for i in H.nodes(data=True)])"
   ]
  },
  {
   "cell_type": "code",
   "execution_count": 305,
   "metadata": {},
   "outputs": [
    {
     "data": {
      "text/plain": [
       "[<matplotlib.lines.Line2D at 0x7f2b4b9ec090>]"
      ]
     },
     "execution_count": 305,
     "metadata": {},
     "output_type": "execute_result"
    },
    {
     "data": {
      "image/png": "[encoded data removed]",
      "text/plain": [
       "<Figure size 432x288 with 1 Axes>"
      ]
     },
     "metadata": {
      "needs_background": "light"
     },
     "output_type": "display_data"
    }
   ],
   "source": [
    "fig, ax = plt.subplots()\n",
    "ax.plot([i for i in sorted(node_dist)], [node_dist[i] for i in sorted(node_dist)])"
   ]
  },
  {
   "cell_type": "code",
   "execution_count": 308,
   "metadata": {},
   "outputs": [
    {
     "data": {
      "text/plain": [
       "11.437057991513438"
      ]
     },
     "execution_count": 308,
     "metadata": {},
     "output_type": "execute_result"
    }
   ],
   "source": [
    "np.average([i[1]['freq'] for i in H.nodes(data=True)])"
   ]
  },
  {
   "cell_type": "markdown",
   "metadata": {},
   "source": [
    "### Average node frequency is 11.437057991513438"
   ]
  },
  {
   "cell_type": "code",
   "execution_count": 348,
   "metadata": {},
   "outputs": [],
   "source": [
    "x=[np.log(i) for i in sorted(node_dist)]"
   ]
  },
  {
   "cell_type": "code",
   "execution_count": 349,
   "metadata": {},
   "outputs": [],
   "source": [
    "y=[np.log(node_dist[i]) for i in sorted(node_dist)]"
   ]
  },
  {
   "cell_type": "code",
   "execution_count": 350,
   "metadata": {},
   "outputs": [],
   "source": [
    "x=x[1:]"
   ]
  },
  {
   "cell_type": "code",
   "execution_count": 351,
   "metadata": {},
   "outputs": [],
   "source": [
    "y=y[1:]"
   ]
  },
  {
   "cell_type": "code",
   "execution_count": 352,
   "metadata": {},
   "outputs": [],
   "source": [
    "popt, pcov = curve_fit(fitfunc, x, y,p0=[5,-2],maxfev=2000)"
   ]
  },
  {
   "cell_type": "code",
   "execution_count": 353,
   "metadata": {},
   "outputs": [
    {
     "data": {
      "text/plain": [
       "array([ 5.3139976 , -1.18799901])"
      ]
     },
     "execution_count": 353,
     "metadata": {},
     "output_type": "execute_result"
    }
   ],
   "source": [
    "popt"
   ]
  },
  {
   "cell_type": "code",
   "execution_count": 331,
   "metadata": {},
   "outputs": [
    {
     "data": {
      "text/plain": [
       "array([ 5.3139976 , -1.18799901])"
      ]
     },
     "execution_count": 331,
     "metadata": {},
     "output_type": "execute_result"
    }
   ],
   "source": [
    "popt"
   ]
  },
  {
   "cell_type": "code",
   "execution_count": 354,
   "metadata": {},
   "outputs": [
    {
     "data": {
      "text/plain": [
       "<matplotlib.collections.PathCollection at 0x7f2b4b3f08d0>"
      ]
     },
     "execution_count": 354,
     "metadata": {},
     "output_type": "execute_result"
    },
    {
     "data": {
      "image/png": "[encoded data removed]",
      "text/plain": [
       "<Figure size 432x288 with 1 Axes>"
      ]
     },
     "metadata": {
      "needs_background": "light"
     },
     "output_type": "display_data"
    }
   ],
   "source": [
    "fig, ax = plt.subplots()\n",
    "ax.scatter(x,y)"
   ]
  },
  {
   "cell_type": "code",
   "execution_count": 355,
   "metadata": {},
   "outputs": [],
   "source": [
    "xdata = np.linspace(0, 5, 50) "
   ]
  },
  {
   "cell_type": "code",
   "execution_count": 356,
   "metadata": {},
   "outputs": [],
   "source": [
    "ydata= fitfunc(xdata,popt[0],popt[1])"
   ]
  },
  {
   "cell_type": "code",
   "execution_count": 359,
   "metadata": {},
   "outputs": [
    {
     "data": {
      "image/png": "[encoded data removed]",
      "text/plain": [
       "<Figure size 720x576 with 1 Axes>"
      ]
     },
     "metadata": {
      "needs_background": "light"
     },
     "output_type": "display_data"
    }
   ],
   "source": [
    "fig, ax = plt.subplots(figsize=(10, 8))\n",
    "ax.scatter(x,y)\n",
    "ax.plot(xdata,ydata,color='red')\n",
    "ax.text(3, 5, 'log(y) = log(amp) + index*log(x)', fontsize=12,color='red')\n",
    "ax.text(3, 4.7, 'log(amp) = %5.2f ' %(popt[0]),fontsize=12)\n",
    "ax.text(3, 4.4, 'index = %5.2f ' %(popt[1]),fontsize=12)\n",
    "ax.set_title('log log node frequency distribution of author keyword network',fontsize=16)\n",
    "ax.set_xlabel('log(frequency of Node)',fontsize=16)\n",
    "ax.set_ylabel('log(occurrence)', fontsize=16)\n",
    "plt.savefig('log log node frequency distribution of author keyword network.png',dpi=300)"
   ]
  },
  {
   "cell_type": "code",
   "execution_count": 337,
   "metadata": {},
   "outputs": [],
   "source": [
    "amp = np.e**popt[0]"
   ]
  },
  {
   "cell_type": "code",
   "execution_count": 338,
   "metadata": {},
   "outputs": [
    {
     "data": {
      "text/plain": [
       "203.16076289227664"
      ]
     },
     "execution_count": 338,
     "metadata": {},
     "output_type": "execute_result"
    }
   ],
   "source": [
    "amp"
   ]
  },
  {
   "cell_type": "code",
   "execution_count": 339,
   "metadata": {},
   "outputs": [],
   "source": [
    "y=powerlaw(np.linspace(1,100,100),amp,popt[1])"
   ]
  },
  {
   "cell_type": "code",
   "execution_count": 346,
   "metadata": {},
   "outputs": [
    {
     "data": {
      "image/png": "[encoded data removed]",
      "text/plain": [
       "<Figure size 720x576 with 1 Axes>"
      ]
     },
     "metadata": {
      "needs_background": "light"
     },
     "output_type": "display_data"
    }
   ],
   "source": [
    "fig, ax = plt.subplots(figsize=(10, 8))\n",
    "ax.scatter([i for i in sorted(node_dist)], [node_dist[i] for i in sorted(node_dist)])\n",
    "ax.plot(np.linspace(1,200,100),powerlaw(np.linspace(1,200,100),amp,popt[1]),color='red')\n",
    "ax.text(60, 125, 'Ampli = %5.2f ' %(amp),fontsize=12)\n",
    "ax.text(60, 115, 'Index = %5.2f ' %(popt[1]),fontsize=12)\n",
    "ax.text(60, 140, 'y = amp * (x**index)', fontsize=12,color='red')\n",
    "ax.set_title('Node frequency distribution of author keyword network',fontsize=16)\n",
    "ax.set_xlabel('Frequency of Node',fontsize=16)\n",
    "ax.set_ylabel('Occurrence', fontsize=16)\n",
    "plt.savefig('Node frequency distribution of author keyword network.png',dpi=300)"
   ]
  },
  {
   "cell_type": "markdown",
   "metadata": {},
   "source": [
    "## edge frequency distribution "
   ]
  },
  {
   "cell_type": "code",
   "execution_count": 364,
   "metadata": {},
   "outputs": [
    {
     "data": {
      "text/plain": [
       "<seaborn.axisgrid.FacetGrid at 0x7f2b4b30f710>"
      ]
     },
     "execution_count": 364,
     "metadata": {},
     "output_type": "execute_result"
    },
    {
     "data": {
      "image/png": "[encoded data removed]",
      "text/plain": [
       "<Figure size 360x360 with 1 Axes>"
      ]
     },
     "metadata": {
      "needs_background": "light"
     },
     "output_type": "display_data"
    }
   ],
   "source": [
    "sns.displot([i[2]['efreq'] for i in H.edges(data=True)])"
   ]
  },
  {
   "cell_type": "code",
   "execution_count": 365,
   "metadata": {},
   "outputs": [],
   "source": [
    "edge_dist=collections.Counter([i[2]['efreq'] for i in H.edges(data=True)])"
   ]
  },
  {
   "cell_type": "code",
   "execution_count": 366,
   "metadata": {},
   "outputs": [
    {
     "data": {
      "text/plain": [
       "Counter({2: 1251,\n",
       "         3: 330,\n",
       "         5: 62,\n",
       "         4: 112,\n",
       "         11: 5,\n",
       "         9: 13,\n",
       "         8: 9,\n",
       "         13: 2,\n",
       "         14: 3,\n",
       "         6: 27,\n",
       "         10: 7,\n",
       "         7: 21,\n",
       "         16: 3,\n",
       "         12: 1,\n",
       "         17: 3,\n",
       "         15: 1,\n",
       "         18: 1})"
      ]
     },
     "execution_count": 366,
     "metadata": {},
     "output_type": "execute_result"
    }
   ],
   "source": [
    "edge_dist"
   ]
  },
  {
   "cell_type": "code",
   "execution_count": 367,
   "metadata": {},
   "outputs": [
    {
     "data": {
      "text/plain": [
       "2.7471636952998377"
      ]
     },
     "execution_count": 367,
     "metadata": {},
     "output_type": "execute_result"
    }
   ],
   "source": [
    "np.average([i[2]['efreq'] for i in H.edges(data=True)])"
   ]
  },
  {
   "cell_type": "markdown",
   "metadata": {},
   "source": [
    "### Average number of edge frequency is 2.7471636952998377"
   ]
  },
  {
   "cell_type": "code",
   "execution_count": 389,
   "metadata": {},
   "outputs": [],
   "source": [
    "x=[np.log(i) for i in sorted(edge_dist)]"
   ]
  },
  {
   "cell_type": "code",
   "execution_count": 390,
   "metadata": {},
   "outputs": [],
   "source": [
    "y=[np.log(edge_dist[i]) for i in sorted(edge_dist)]"
   ]
  },
  {
   "cell_type": "code",
   "execution_count": 372,
   "metadata": {},
   "outputs": [
    {
     "data": {
      "text/plain": [
       "[<matplotlib.lines.Line2D at 0x7f2b4b0ae110>]"
      ]
     },
     "execution_count": 372,
     "metadata": {},
     "output_type": "execute_result"
    },
    {
     "data": {
      "image/png": "[encoded data removed]",
      "text/plain": [
       "<Figure size 432x288 with 1 Axes>"
      ]
     },
     "metadata": {
      "needs_background": "light"
     },
     "output_type": "display_data"
    }
   ],
   "source": [
    "fig, ax = plt.subplots()\n",
    "ax.plot(x,y)"
   ]
  },
  {
   "cell_type": "code",
   "execution_count": 375,
   "metadata": {},
   "outputs": [],
   "source": [
    "popt, pcov = curve_fit(fitfunc, x, y,p0=[4,-1],maxfev=2000)"
   ]
  },
  {
   "cell_type": "code",
   "execution_count": 376,
   "metadata": {},
   "outputs": [
    {
     "data": {
      "text/plain": [
       "array([ 9.13481185, -3.15612328])"
      ]
     },
     "execution_count": 376,
     "metadata": {},
     "output_type": "execute_result"
    }
   ],
   "source": [
    "popt"
   ]
  },
  {
   "cell_type": "code",
   "execution_count": 377,
   "metadata": {},
   "outputs": [],
   "source": [
    "amp = np.e**popt[0]"
   ]
  },
  {
   "cell_type": "code",
   "execution_count": 381,
   "metadata": {},
   "outputs": [],
   "source": [
    "y=powerlaw(np.linspace(2,100,100),amp,popt[1])"
   ]
  },
  {
   "cell_type": "code",
   "execution_count": 388,
   "metadata": {},
   "outputs": [
    {
     "data": {
      "image/png": "[encoded data removed]",
      "text/plain": [
       "<Figure size 720x576 with 1 Axes>"
      ]
     },
     "metadata": {
      "needs_background": "light"
     },
     "output_type": "display_data"
    }
   ],
   "source": [
    "fig, ax = plt.subplots(figsize=(10, 8))\n",
    "ax.scatter([i for i in sorted(edge_dist)], [edge_dist[i] for i in sorted(edge_dist)])\n",
    "ax.plot(np.linspace(2,20,50),powerlaw(np.linspace(2,20,50),amp,popt[1]),color='red')\n",
    "ax.text(15, 800, 'Ampli = %5.2f ' %(amp),fontsize=12)\n",
    "ax.text(15, 750, 'Index = %5.2f ' %(popt[1]),fontsize=12)\n",
    "ax.text(15, 700, 'y = amp * (x**index)', fontsize=12,color='red')\n",
    "ax.set_title('Edge frequency distribution of author keyword network',fontsize=16)\n",
    "ax.set_xlabel('Frequency of Edge',fontsize=16)\n",
    "ax.set_ylabel('Occurrence', fontsize=16)\n",
    "plt.savefig('Edge frequency distribution of author keyword network.png',dpi=300)"
   ]
  },
  {
   "cell_type": "code",
   "execution_count": 403,
   "metadata": {},
   "outputs": [],
   "source": [
    "xdata= np.linspace(0.5, 3, 25) "
   ]
  },
  {
   "cell_type": "code",
   "execution_count": 404,
   "metadata": {},
   "outputs": [],
   "source": [
    "ydata= fitfunc(xdata,popt[0],popt[1])"
   ]
  },
  {
   "cell_type": "code",
   "execution_count": 409,
   "metadata": {},
   "outputs": [
    {
     "data": {
      "image/png": "[encoded data removed]",
      "text/plain": [
       "<Figure size 720x576 with 1 Axes>"
      ]
     },
     "metadata": {
      "needs_background": "light"
     },
     "output_type": "display_data"
    }
   ],
   "source": [
    "fig, ax = plt.subplots(figsize=(10, 8))\n",
    "ax.scatter(x,y)\n",
    "ax.plot(xdata,ydata,color='red')\n",
    "ax.text(2, 6, 'log(y) = log(amp) + index*log(x)', fontsize=12,color='red')\n",
    "ax.text(2, 5.7, 'log(amp) = %5.2f ' %(popt[0]),fontsize=12)\n",
    "ax.text(2, 5.4, 'index = %5.2f ' %(popt[1]),fontsize=12)\n",
    "ax.set_title('log log edge frequency distribution of author keyword network',fontsize=16)\n",
    "ax.set_xlabel('log(edge frequency)',fontsize=16)\n",
    "ax.set_ylabel('log(occurrence)', fontsize=16)\n",
    "plt.savefig('log log edge frequency distribution of author keyword network.png',dpi=300)"
   ]
  },
  {
   "cell_type": "code",
   "execution_count": 396,
   "metadata": {},
   "outputs": [
    {
     "data": {
      "text/plain": [
       "2.8903717578961645"
      ]
     },
     "execution_count": 396,
     "metadata": {},
     "output_type": "execute_result"
    }
   ],
   "source": [
    "x[-1]"
   ]
  },
  {
   "cell_type": "code",
   "execution_count": 395,
   "metadata": {},
   "outputs": [
    {
     "data": {
      "text/plain": [
       "[7.1316985104669115,\n",
       " 5.799092654460527,\n",
       " 4.718498871295094,\n",
       " 4.127134385045092,\n",
       " 3.295836866004329,\n",
       " 3.044522437723423,\n",
       " 2.1972245773362196,\n",
       " 2.5649493574615367,\n",
       " 1.9459101490553132,\n",
       " 1.6094379124341003,\n",
       " 0.0,\n",
       " 0.6931471805599453,\n",
       " 1.0986122886681098,\n",
       " 0.0,\n",
       " 1.0986122886681098,\n",
       " 1.0986122886681098,\n",
       " 0.0]"
      ]
     },
     "execution_count": 395,
     "metadata": {},
     "output_type": "execute_result"
    }
   ],
   "source": [
    "y"
   ]
  },
  {
   "cell_type": "code",
   "execution_count": null,
   "metadata": {},
   "outputs": [],
   "source": []
  },
  {
   "cell_type": "code",
   "execution_count": null,
   "metadata": {},
   "outputs": [],
   "source": []
  },
  {
   "cell_type": "code",
   "execution_count": null,
   "metadata": {},
   "outputs": [],
   "source": []
  },
  {
   "cell_type": "markdown",
   "metadata": {},
   "source": [
    "# Community on remaining network"
   ]
  },
  {
   "cell_type": "code",
   "execution_count": 129,
   "metadata": {},
   "outputs": [],
   "source": [
    "import networkx.algorithms.community as nx_comm"
   ]
  },
  {
   "cell_type": "code",
   "execution_count": 150,
   "metadata": {},
   "outputs": [],
   "source": [
    "communities = nx_comm.girvan_newman(H)"
   ]
  },
  {
   "cell_type": "code",
   "execution_count": null,
   "metadata": {},
   "outputs": [],
   "source": []
  },
  {
   "cell_type": "code",
   "execution_count": 148,
   "metadata": {},
   "outputs": [],
   "source": [
    "top_level_communities = next(communities)"
   ]
  },
  {
   "cell_type": "code",
   "execution_count": 149,
   "metadata": {
    "scrolled": true
   },
   "outputs": [
    {
     "data": {
      "text/plain": [
       "[687, 20]"
      ]
     },
     "execution_count": 149,
     "metadata": {},
     "output_type": "execute_result"
    }
   ],
   "source": [
    "[len(i) for i in top_level_communities]"
   ]
  },
  {
   "cell_type": "code",
   "execution_count": 151,
   "metadata": {
    "scrolled": true
   },
   "outputs": [
    {
     "name": "stdout",
     "output_type": "stream",
     "text": [
      "0\n",
      "1\n",
      "2\n",
      "3\n",
      "4\n",
      "5\n",
      "6\n",
      "7\n",
      "8\n",
      "9\n",
      "10\n",
      "11\n",
      "12\n",
      "13\n",
      "14\n",
      "15\n",
      "16\n",
      "17\n",
      "18\n",
      "19\n",
      "20\n",
      "21\n",
      "22\n",
      "23\n",
      "24\n",
      "25\n",
      "26\n",
      "27\n",
      "28\n",
      "29\n",
      "30\n",
      "31\n",
      "32\n",
      "33\n",
      "34\n",
      "35\n",
      "36\n",
      "37\n",
      "38\n",
      "39\n",
      "40\n",
      "41\n",
      "42\n",
      "43\n",
      "44\n",
      "45\n",
      "46\n",
      "47\n",
      "48\n",
      "49\n"
     ]
    }
   ],
   "source": [
    "node_groups=[]\n",
    "for i in range(50):\n",
    "    print(i)\n",
    "    com=next(communities)\n",
    "    node_groups.append(list(com))"
   ]
  },
  {
   "cell_type": "code",
   "execution_count": 152,
   "metadata": {},
   "outputs": [],
   "source": [
    "lines=[]\n",
    "for i in range(1,50):\n",
    "    for j,l in enumerate(node_groups[i]):\n",
    "        for k,m in enumerate(node_groups[i-1]):\n",
    "             if len(set(l).intersection(m))==len(m) and len(l)==len(m):\n",
    "                    lines.append([i-1,k,i,j,'blue'])\n",
    "             elif len(set(l).intersection(m))==len(l) and len(l)!=len(m):\n",
    "                    lines.append([i-1,k,i,j,'red'])"
   ]
  },
  {
   "cell_type": "code",
   "execution_count": 154,
   "metadata": {},
   "outputs": [],
   "source": [
    "x=[]\n",
    "for k in range(4,54):\n",
    "    x.append(np.linspace(0, 50, k))"
   ]
  },
  {
   "cell_type": "code",
   "execution_count": 155,
   "metadata": {},
   "outputs": [],
   "source": [
    "y=[j for j in sorted([i for i in range(1,51)],reverse=True)]"
   ]
  },
  {
   "cell_type": "code",
   "execution_count": 156,
   "metadata": {},
   "outputs": [],
   "source": [
    "points=[]\n",
    "for i in range(50):\n",
    "    s=[]\n",
    "    for j in x[i][1:-1]:\n",
    "        s.append((j,y[i]))\n",
    "    points.append(s)"
   ]
  },
  {
   "cell_type": "code",
   "execution_count": 158,
   "metadata": {},
   "outputs": [
    {
     "data": {
      "text/plain": [
       "[None]"
      ]
     },
     "execution_count": 158,
     "metadata": {},
     "output_type": "execute_result"
    },
    {
     "data": {
      "image/png": "[encoded data removed]",
      "text/plain": [
       "<Figure size 864x936 with 1 Axes>"
      ]
     },
     "metadata": {
      "needs_background": "light"
     },
     "output_type": "display_data"
    }
   ],
   "source": [
    "fig, ax = plt.subplots(figsize=(12, 13))\n",
    "for i in lines:\n",
    "    if len(node_groups[i[0]][i[1]])>20:\n",
    "        ax.plot([points[i[0]][i[1]][0],points[i[2]][i[3]][0]],[points[i[0]][i[1]][1],points[i[2]][i[3]][1]],color=i[-1])\n",
    "ax.set(aspect=1)"
   ]
  },
  {
   "cell_type": "code",
   "execution_count": null,
   "metadata": {},
   "outputs": [],
   "source": []
  },
  {
   "cell_type": "markdown",
   "metadata": {},
   "source": [
    "## louvain_partitions of Network"
   ]
  },
  {
   "cell_type": "code",
   "execution_count": 163,
   "metadata": {},
   "outputs": [
    {
     "name": "stdout",
     "output_type": "stream",
     "text": [
      "/home/sunny\n"
     ]
    }
   ],
   "source": [
    "cd"
   ]
  },
  {
   "cell_type": "code",
   "execution_count": 164,
   "metadata": {},
   "outputs": [
    {
     "name": "stdout",
     "output_type": "stream",
     "text": [
      "/home/sunny/plastic literature network and modeling\n"
     ]
    }
   ],
   "source": [
    "cd plastic\\ literature\\ network\\ and\\ modeling"
   ]
  },
  {
   "cell_type": "code",
   "execution_count": 165,
   "metadata": {},
   "outputs": [
    {
     "name": "stdout",
     "output_type": "stream",
     "text": [
      "'combine the row scopus files.ipynb'\r\n",
      "'community detection algo on author keyword network.ipynb'\r\n",
      "'community detection on author keyword network.ipynb'\r\n"
     ]
    }
   ],
   "source": [
    "ls"
   ]
  },
  {
   "cell_type": "markdown",
   "metadata": {},
   "source": [
    "### louvain_partitions will execute on command line to availability with py10 conda env "
   ]
  },
  {
   "cell_type": "code",
   "execution_count": 166,
   "metadata": {},
   "outputs": [
    {
     "data": {
      "text/plain": [
       "707"
      ]
     },
     "execution_count": 166,
     "metadata": {},
     "output_type": "execute_result"
    }
   ],
   "source": [
    "H.number_of_nodes()"
   ]
  },
  {
   "cell_type": "code",
   "execution_count": 168,
   "metadata": {},
   "outputs": [],
   "source": [
    "nx.write_gml(H, \"Author_keywords707.gml\")"
   ]
  },
  {
   "cell_type": "code",
   "execution_count": 170,
   "metadata": {},
   "outputs": [
    {
     "name": "stdout",
     "output_type": "stream",
     "text": [
      " Author_keywords707.gml\r\n",
      "'combine the row scopus files.ipynb'\r\n",
      "'community detection algo on author keyword network.ipynb'\r\n",
      "'community detection on author keyword network.ipynb'\r\n"
     ]
    }
   ],
   "source": [
    "ls"
   ]
  },
  {
   "cell_type": "code",
   "execution_count": 410,
   "metadata": {},
   "outputs": [
    {
     "data": {
      "text/plain": [
       "'/home/sunny/plastic literature network and modeling'"
      ]
     },
     "execution_count": 410,
     "metadata": {},
     "output_type": "execute_result"
    }
   ],
   "source": [
    "pwd"
   ]
  },
  {
   "cell_type": "code",
   "execution_count": 411,
   "metadata": {},
   "outputs": [
    {
     "name": "stdout",
     "output_type": "stream",
     "text": [
      "'author keyword network curve fitting .ipynb'\r\n",
      " Author_keywords707.gml\r\n",
      "\u001b[0m\u001b[01;34m'Author keywords network images'\u001b[0m/\r\n",
      "'combine the row scopus files.ipynb'\r\n",
      "'community composition and comparison on author keyword network .ipynb'\r\n"
     ]
    }
   ],
   "source": [
    "ls"
   ]
  },
  {
   "cell_type": "code",
   "execution_count": null,
   "metadata": {},
   "outputs": [],
   "source": []
  }
 ],
 "metadata": {
  "kernelspec": {
   "display_name": "Python 3",
   "language": "python",
   "name": "python3"
  },
  "language_info": {
   "codemirror_mode": {
    "name": "ipython",
    "version": 3
   },
   "file_extension": ".py",
   "mimetype": "text/x-python",
   "name": "python",
   "nbconvert_exporter": "python",
   "pygments_lexer": "ipython3",
   "version": "3.7.7"
  }
 },
 "nbformat": 4,
 "nbformat_minor": 4
}
